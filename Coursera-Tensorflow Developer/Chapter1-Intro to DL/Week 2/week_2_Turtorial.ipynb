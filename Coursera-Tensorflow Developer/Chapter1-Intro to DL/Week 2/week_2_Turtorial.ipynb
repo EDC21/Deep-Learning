{
  "nbformat": 4,
  "nbformat_minor": 0,
  "metadata": {
    "colab": {
      "name": "week 2-Turtorial",
      "provenance": [],
      "authorship_tag": "ABX9TyPZxnnqI45MXnL7eIub9beX",
      "include_colab_link": true
    },
    "kernelspec": {
      "name": "python3",
      "display_name": "Python 3"
    }
  },
  "cells": [
    {
      "cell_type": "markdown",
      "metadata": {
        "id": "view-in-github",
        "colab_type": "text"
      },
      "source": [
        "<a href=\"https://colab.research.google.com/github/EDC21/Deep-Learning/blob/master/Coursera-Tensorflow%20Developer/Chapter1-Intro%20to%20DL/Week%202/week_2_Turtorial.ipynb\" target=\"_parent\"><img src=\"https://colab.research.google.com/assets/colab-badge.svg\" alt=\"Open In Colab\"/></a>"
      ]
    },
    {
      "cell_type": "markdown",
      "metadata": {
        "id": "X6f6ZeKNa0mU",
        "colab_type": "text"
      },
      "source": [
        "#Week 2-Turtorial"
      ]
    },
    {
      "cell_type": "markdown",
      "metadata": {
        "id": "dN7OD1i6bI94",
        "colab_type": "text"
      },
      "source": [
        "##2.3 Load training data"
      ]
    },
    {
      "cell_type": "code",
      "metadata": {
        "id": "R7SQvV-Ebb9Q",
        "colab_type": "code",
        "colab": {}
      },
      "source": [
        "import tensorflow as tf\n",
        "from tensorflow import keras"
      ],
      "execution_count": null,
      "outputs": []
    },
    {
      "cell_type": "code",
      "metadata": {
        "id": "PoxaUUObaz56",
        "colab_type": "code",
        "colab": {}
      },
      "source": [
        "fashion_mnist = keras.datasets.fashion_mnist\n",
        "(train_images, train_labels), (test_images, test_labels) = fashion_mnist.load_data()"
      ],
      "execution_count": null,
      "outputs": []
    },
    {
      "cell_type": "markdown",
      "metadata": {
        "id": "Hi8DV6zFbwUV",
        "colab_type": "text"
      },
      "source": [
        "##2.4 Coding a Computer Vision neural network"
      ]
    },
    {
      "cell_type": "code",
      "metadata": {
        "id": "9IPivuXBbYXk",
        "colab_type": "code",
        "colab": {}
      },
      "source": [
        "model = keras.Sequential([\n",
        "     keras.layers.Flatten(input_shape=(28,28)),\n",
        "     keras.layers.Dense(128, activation=tf.nn.relu),\n",
        "     keras.layers.Dense(10, activation=tf.nn.softmax)\n",
        "])"
      ],
      "execution_count": null,
      "outputs": []
    },
    {
      "cell_type": "markdown",
      "metadata": {
        "id": "UcY3PLrKcgjq",
        "colab_type": "text"
      },
      "source": [
        "##2.5 Walk through a notebook for computer vision"
      ]
    },
    {
      "cell_type": "code",
      "metadata": {
        "id": "X_uJPYEwcJJi",
        "colab_type": "code",
        "colab": {}
      },
      "source": [
        ""
      ],
      "execution_count": null,
      "outputs": []
    },
    {
      "cell_type": "markdown",
      "metadata": {
        "id": "570Fv5i-dpvo",
        "colab_type": "text"
      },
      "source": [
        "##2.6 Using callbacks to control training"
      ]
    },
    {
      "cell_type": "code",
      "metadata": {
        "id": "Q9-PE2kSduLl",
        "colab_type": "code",
        "colab": {}
      },
      "source": [
        "keras.backend.clear_session()"
      ],
      "execution_count": null,
      "outputs": []
    },
    {
      "cell_type": "code",
      "metadata": {
        "id": "nJ5GBx-QexAB",
        "colab_type": "code",
        "colab": {}
      },
      "source": [
        "class myCallback(tf.keras.callbacks.Callback):\n",
        "  def on_epoch_end(self, epoch, logs={}):\n",
        "    if(logs.get('loss')<0.4):\n",
        "      print(\"\\nLoss is low so cancelling training!\")\n",
        "      self.model.stop_training = True"
      ],
      "execution_count": null,
      "outputs": []
    },
    {
      "cell_type": "code",
      "metadata": {
        "id": "kITm6YwXd7Pi",
        "colab_type": "code",
        "colab": {
          "base_uri": "https://localhost:8080/",
          "height": 143
        },
        "outputId": "a694daa9-7076-46bd-d0d4-60b0b8e372de"
      },
      "source": [
        "callbacks = myCallback()\n",
        "\n",
        "mnist = tf.keras.datasets.fashion_mnist\n",
        "(training_images, training_labels), (test_images, test_labels) = mnist.load_data()\n",
        "training_images = training_images / 255.\n",
        "test_images = test_images / 255.\n",
        "model = tf.keras.models.Sequential([\n",
        "       tf.keras.layers.Flatten(),\n",
        "       tf.keras.layers.Dense(512,activation=tf.nn.relu),\n",
        "       tf.keras.layers.Dense(10,activation=tf.nn.softmax)\n",
        "])\n",
        "model.compile(optimizer='adam', loss='sparse_categorical_crossentropy')\n",
        "model.fit(training_images, training_labels, epochs=5, callbacks=[callbacks])"
      ],
      "execution_count": null,
      "outputs": [
        {
          "output_type": "stream",
          "text": [
            "Epoch 1/5\n",
            "1875/1875 [==============================] - 8s 4ms/step - loss: 0.4752\n",
            "Epoch 2/5\n",
            "1875/1875 [==============================] - ETA: 0s - loss: 0.3614\n",
            "Loss is low so cancelling training!\n",
            "1875/1875 [==============================] - 8s 4ms/step - loss: 0.3614\n"
          ],
          "name": "stdout"
        },
        {
          "output_type": "execute_result",
          "data": {
            "text/plain": [
              "<tensorflow.python.keras.callbacks.History at 0x7f280d499eb8>"
            ]
          },
          "metadata": {
            "tags": []
          },
          "execution_count": 11
        }
      ]
    },
    {
      "cell_type": "code",
      "metadata": {
        "id": "UXxfp2_vfQZ5",
        "colab_type": "code",
        "colab": {}
      },
      "source": [
        ""
      ],
      "execution_count": null,
      "outputs": []
    }
  ]
}