{
  "nbformat": 4,
  "nbformat_minor": 0,
  "metadata": {
    "colab": {
      "name": "Reusing Pretrained Layers.ipynb",
      "provenance": [],
      "authorship_tag": "ABX9TyME90UjlHIEnT+GZSks1w7Z",
      "include_colab_link": true
    },
    "kernelspec": {
      "name": "python3",
      "display_name": "Python 3"
    }
  },
  "cells": [
    {
      "cell_type": "markdown",
      "metadata": {
        "id": "view-in-github",
        "colab_type": "text"
      },
      "source": [
        "<a href=\"https://colab.research.google.com/github/EDC21/Deep-Learning/blob/master/Reusing_Pretrained_Layers.ipynb\" target=\"_parent\"><img src=\"https://colab.research.google.com/assets/colab-badge.svg\" alt=\"Open In Colab\"/></a>"
      ]
    },
    {
      "cell_type": "markdown",
      "metadata": {
        "id": "-ONU6Lzmt3MK",
        "colab_type": "text"
      },
      "source": [
        "#Reusing Pretrained Layers"
      ]
    },
    {
      "cell_type": "markdown",
      "metadata": {
        "id": "nUex4fkltW5E",
        "colab_type": "text"
      },
      "source": [
        "It is generally not a good idea to train a very large DNN from scratch: insteard, you should always try to find an existing neural network that accomplishes a similar task to the one you are trying to tackle, then reuse the lower layers of this network."
      ]
    },
    {
      "cell_type": "markdown",
      "metadata": {
        "id": "J5WddzNDtzep",
        "colab_type": "text"
      },
      "source": [
        "##Transfer Learning"
      ]
    },
    {
      "cell_type": "markdown",
      "metadata": {
        "id": "fbaYi9Tft7jR",
        "colab_type": "text"
      },
      "source": [
        "Example:  \n",
        "Let's split the fashion MNIST training set in two:\n",
        "* `X_train_A`: all images of all items except for sandals and shirts (classes 5 and 6).\n",
        "* `X_train_B`: a much smaller training set of just the first 200 images of sandals or shirts.\n",
        "\n",
        "The validation set and the test set are also split this way, but without restricting the number of images.\n",
        "\n",
        "We will train a model on set A (classification task with 8 classes), and try to reuse it to tackle set B (binary classification). We hope to transfer a little bit of knowledge from task A to task B, since classes in set A (sneakers, ankle boots, coats, t-shirts, etc.) are somewhat similar to classes in set B (sandals and shirts). However, since we are using `Dense` layers, only patterns that occur at the same location can be reused (in contrast, convolutional layers will transfer much better, since learned patterns can be detected anywhere on the image, as we will see in the CNN chapter).\n"
      ]
    },
    {
      "cell_type": "code",
      "metadata": {
        "id": "yuR0Eoj7uoSt",
        "colab_type": "code",
        "colab": {
          "base_uri": "https://localhost:8080/",
          "height": 53
        },
        "outputId": "b232c5c7-ce5f-42ed-ee6c-d4aa3cbcd48d"
      },
      "source": [
        "import sys\n",
        "assert sys.version_info >= (3, 5)\n",
        "\n",
        "# Scikit-Learn ≥0.20 is required\n",
        "import sklearn\n",
        "assert sklearn.__version__ >= \"0.20\"\n",
        "\n",
        "try:\n",
        "    # %tensorflow_version only exists in Colab.\n",
        "    %tensorflow_version 2.x\n",
        "except Exception:\n",
        "    pass\n",
        "\n",
        "# TensorFlow ≥2.0 is required\n",
        "import tensorflow as tf\n",
        "from tensorflow import keras\n",
        "assert tf.__version__ >= \"2.0\"\n",
        "\n",
        "%load_ext tensorboard\n",
        "\n",
        "# Common imports\n",
        "import numpy as np\n",
        "import os\n",
        "\n",
        "# to make this notebook's output stable across runs\n",
        "np.random.seed(42)\n",
        "\n",
        "# To plot pretty figures\n",
        "%matplotlib inline\n",
        "import matplotlib as mpl\n",
        "import matplotlib.pyplot as plt\n",
        "mpl.rc('axes', labelsize=14)\n",
        "mpl.rc('xtick', labelsize=12)\n",
        "mpl.rc('ytick', labelsize=12)\n",
        "\n",
        "# Where to save the figures\n",
        "PROJECT_ROOT_DIR = \".\"\n",
        "CHAPTER_ID = \"deep\"\n",
        "IMAGES_PATH = os.path.join(PROJECT_ROOT_DIR, \"images\", CHAPTER_ID)\n",
        "os.makedirs(IMAGES_PATH, exist_ok=True)\n",
        "\n"
      ],
      "execution_count": 13,
      "outputs": [
        {
          "output_type": "stream",
          "text": [
            "The tensorboard extension is already loaded. To reload it, use:\n",
            "  %reload_ext tensorboard\n"
          ],
          "name": "stdout"
        }
      ]
    },
    {
      "cell_type": "markdown",
      "metadata": {
        "id": "gIa_0jbxvbiC",
        "colab_type": "text"
      },
      "source": [
        "##Data Manipulation"
      ]
    },
    {
      "cell_type": "code",
      "metadata": {
        "id": "7XRG4r3zs2sG",
        "colab_type": "code",
        "colab": {
          "base_uri": "https://localhost:8080/",
          "height": 161
        },
        "outputId": "c6bb4e3e-9efb-4344-a2e6-26e988834a09"
      },
      "source": [
        "(X_train_full, y_train_full), (X_test, y_test) = keras.datasets.fashion_mnist.load_data()\n",
        "X_train_full = X_train_full / 255.0\n",
        "X_test = X_test / 255.0\n",
        "X_valid, X_train = X_train_full[:5000], X_train_full[5000:]\n",
        "y_valid, y_train = y_train_full[:5000], y_train_full[5000:]\n",
        "\n",
        "def split_dataset(X, y):\n",
        "    y_5_or_6 = (y == 5) | (y == 6) # sandals or shirts\n",
        "    y_A = y[~y_5_or_6]\n",
        "    y_A[y_A > 6] -= 2 # class indices 7, 8, 9 should be moved to 5, 6, 7\n",
        "    y_B = (y[y_5_or_6] == 6).astype(np.float32) # binary classification task: is it a shirt (class 6)?\n",
        "    return ((X[~y_5_or_6], y_A),\n",
        "            (X[y_5_or_6], y_B))\n",
        "\n",
        "(X_train_A, y_train_A), (X_train_B, y_train_B) = split_dataset(X_train, y_train)\n",
        "(X_valid_A, y_valid_A), (X_valid_B, y_valid_B) = split_dataset(X_valid, y_valid)\n",
        "(X_test_A, y_test_A), (X_test_B, y_test_B) = split_dataset(X_test, y_test)\n",
        "X_train_B = X_train_B[:200]\n",
        "y_train_B = y_train_B[:200]"
      ],
      "execution_count": 6,
      "outputs": [
        {
          "output_type": "stream",
          "text": [
            "Downloading data from https://storage.googleapis.com/tensorflow/tf-keras-datasets/train-labels-idx1-ubyte.gz\n",
            "32768/29515 [=================================] - 0s 0us/step\n",
            "Downloading data from https://storage.googleapis.com/tensorflow/tf-keras-datasets/train-images-idx3-ubyte.gz\n",
            "26427392/26421880 [==============================] - 0s 0us/step\n",
            "Downloading data from https://storage.googleapis.com/tensorflow/tf-keras-datasets/t10k-labels-idx1-ubyte.gz\n",
            "8192/5148 [===============================================] - 0s 0us/step\n",
            "Downloading data from https://storage.googleapis.com/tensorflow/tf-keras-datasets/t10k-images-idx3-ubyte.gz\n",
            "4423680/4422102 [==============================] - 0s 0us/step\n"
          ],
          "name": "stdout"
        }
      ]
    },
    {
      "cell_type": "code",
      "metadata": {
        "id": "4AVw6Fdlud4T",
        "colab_type": "code",
        "colab": {
          "base_uri": "https://localhost:8080/",
          "height": 35
        },
        "outputId": "8af69726-d535-4076-a009-176fff25fe13"
      },
      "source": [
        "X_train_A.shape"
      ],
      "execution_count": 7,
      "outputs": [
        {
          "output_type": "execute_result",
          "data": {
            "text/plain": [
              "(43986, 28, 28)"
            ]
          },
          "metadata": {
            "tags": []
          },
          "execution_count": 7
        }
      ]
    },
    {
      "cell_type": "code",
      "metadata": {
        "id": "uhOCklgDufxj",
        "colab_type": "code",
        "colab": {
          "base_uri": "https://localhost:8080/",
          "height": 35
        },
        "outputId": "fca857c7-03c7-4e8a-d84d-fd0289a72726"
      },
      "source": [
        "X_train_B.shape"
      ],
      "execution_count": 8,
      "outputs": [
        {
          "output_type": "execute_result",
          "data": {
            "text/plain": [
              "(200, 28, 28)"
            ]
          },
          "metadata": {
            "tags": []
          },
          "execution_count": 8
        }
      ]
    },
    {
      "cell_type": "code",
      "metadata": {
        "id": "jCrfgpEQvDQa",
        "colab_type": "code",
        "colab": {
          "base_uri": "https://localhost:8080/",
          "height": 53
        },
        "outputId": "ae9dee10-ac3d-4797-9b67-f1e127eda61c"
      },
      "source": [
        "y_train_A[:30]"
      ],
      "execution_count": 9,
      "outputs": [
        {
          "output_type": "execute_result",
          "data": {
            "text/plain": [
              "array([4, 0, 5, 7, 7, 7, 4, 4, 3, 4, 0, 1, 6, 3, 4, 3, 2, 6, 5, 3, 4, 5,\n",
              "       1, 3, 4, 2, 0, 6, 7, 1], dtype=uint8)"
            ]
          },
          "metadata": {
            "tags": []
          },
          "execution_count": 9
        }
      ]
    },
    {
      "cell_type": "code",
      "metadata": {
        "id": "Lw3y9Co8vEg6",
        "colab_type": "code",
        "colab": {
          "base_uri": "https://localhost:8080/",
          "height": 53
        },
        "outputId": "42a77b61-0aba-4e61-fb42-20bfefe2ab60"
      },
      "source": [
        "y_train_B[:30]"
      ],
      "execution_count": 10,
      "outputs": [
        {
          "output_type": "execute_result",
          "data": {
            "text/plain": [
              "array([1., 1., 0., 0., 0., 0., 1., 1., 1., 0., 0., 1., 1., 0., 0., 0., 0.,\n",
              "       0., 0., 1., 1., 0., 0., 1., 1., 0., 1., 1., 1., 1.], dtype=float32)"
            ]
          },
          "metadata": {
            "tags": []
          },
          "execution_count": 10
        }
      ]
    },
    {
      "cell_type": "markdown",
      "metadata": {
        "id": "4LWBa36rvmQS",
        "colab_type": "text"
      },
      "source": [
        "##Model A Architecture"
      ]
    },
    {
      "cell_type": "markdown",
      "metadata": {
        "id": "8nLtL5JIwhAA",
        "colab_type": "text"
      },
      "source": [
        "Build model_A (input=X_train_A)"
      ]
    },
    {
      "cell_type": "code",
      "metadata": {
        "id": "tVAPDKqOvGPj",
        "colab_type": "code",
        "colab": {}
      },
      "source": [
        "tf.random.set_seed(42)\n",
        "np.random.seed(42)"
      ],
      "execution_count": 14,
      "outputs": []
    },
    {
      "cell_type": "code",
      "metadata": {
        "id": "FSSfI0wHvzy2",
        "colab_type": "code",
        "colab": {}
      },
      "source": [
        "model_A = keras.models.Sequential()\n",
        "model_A.add(keras.layers.Flatten(input_shape=[28, 28]))\n",
        "for n_hidden in (300, 100, 50, 50, 50):\n",
        "    model_A.add(keras.layers.Dense(n_hidden, activation=\"selu\"))\n",
        "model_A.add(keras.layers.Dense(8, activation=\"softmax\"))"
      ],
      "execution_count": 15,
      "outputs": []
    },
    {
      "cell_type": "code",
      "metadata": {
        "id": "LDGoRaNgv1Zt",
        "colab_type": "code",
        "colab": {}
      },
      "source": [
        "model_A.compile(loss=\"sparse_categorical_crossentropy\",\n",
        "                optimizer=keras.optimizers.SGD(lr=1e-3),\n",
        "                metrics=[\"accuracy\"])"
      ],
      "execution_count": 16,
      "outputs": []
    },
    {
      "cell_type": "code",
      "metadata": {
        "id": "QdDy9nbAv3Tx",
        "colab_type": "code",
        "colab": {
          "base_uri": "https://localhost:8080/",
          "height": 757
        },
        "outputId": "b65d2a2b-7ae1-4b72-c4e5-1b9d7d303922"
      },
      "source": [
        "history = model_A.fit(X_train_A, y_train_A, epochs=20,\n",
        "                    validation_data=(X_valid_A, y_valid_A))"
      ],
      "execution_count": 17,
      "outputs": [
        {
          "output_type": "stream",
          "text": [
            "Epoch 1/20\n",
            "1375/1375 [==============================] - 4s 3ms/step - loss: 0.5926 - accuracy: 0.8103 - val_loss: 0.3890 - val_accuracy: 0.8677\n",
            "Epoch 2/20\n",
            "1375/1375 [==============================] - 4s 3ms/step - loss: 0.3523 - accuracy: 0.8786 - val_loss: 0.3289 - val_accuracy: 0.8824\n",
            "Epoch 3/20\n",
            "1375/1375 [==============================] - 4s 3ms/step - loss: 0.3170 - accuracy: 0.8895 - val_loss: 0.3013 - val_accuracy: 0.8991\n",
            "Epoch 4/20\n",
            "1375/1375 [==============================] - 4s 3ms/step - loss: 0.2972 - accuracy: 0.8974 - val_loss: 0.2892 - val_accuracy: 0.9013\n",
            "Epoch 5/20\n",
            "1375/1375 [==============================] - 4s 3ms/step - loss: 0.2834 - accuracy: 0.9022 - val_loss: 0.2774 - val_accuracy: 0.9066\n",
            "Epoch 6/20\n",
            "1375/1375 [==============================] - 4s 3ms/step - loss: 0.2729 - accuracy: 0.9063 - val_loss: 0.2733 - val_accuracy: 0.9071\n",
            "Epoch 7/20\n",
            "1375/1375 [==============================] - 4s 3ms/step - loss: 0.2641 - accuracy: 0.9092 - val_loss: 0.2720 - val_accuracy: 0.9091\n",
            "Epoch 8/20\n",
            "1375/1375 [==============================] - 4s 3ms/step - loss: 0.2572 - accuracy: 0.9125 - val_loss: 0.2589 - val_accuracy: 0.9141\n",
            "Epoch 9/20\n",
            "1375/1375 [==============================] - 4s 3ms/step - loss: 0.2518 - accuracy: 0.9135 - val_loss: 0.2562 - val_accuracy: 0.9143\n",
            "Epoch 10/20\n",
            "1375/1375 [==============================] - 4s 3ms/step - loss: 0.2468 - accuracy: 0.9154 - val_loss: 0.2540 - val_accuracy: 0.9165\n",
            "Epoch 11/20\n",
            "1375/1375 [==============================] - 4s 3ms/step - loss: 0.2422 - accuracy: 0.9178 - val_loss: 0.2494 - val_accuracy: 0.9155\n",
            "Epoch 12/20\n",
            "1375/1375 [==============================] - 4s 3ms/step - loss: 0.2382 - accuracy: 0.9188 - val_loss: 0.2511 - val_accuracy: 0.9128\n",
            "Epoch 13/20\n",
            "1375/1375 [==============================] - 4s 3ms/step - loss: 0.2350 - accuracy: 0.9197 - val_loss: 0.2446 - val_accuracy: 0.9163\n",
            "Epoch 14/20\n",
            "1375/1375 [==============================] - 4s 3ms/step - loss: 0.2315 - accuracy: 0.9213 - val_loss: 0.2413 - val_accuracy: 0.9178\n",
            "Epoch 15/20\n",
            "1375/1375 [==============================] - 4s 3ms/step - loss: 0.2287 - accuracy: 0.9214 - val_loss: 0.2446 - val_accuracy: 0.9193\n",
            "Epoch 16/20\n",
            "1375/1375 [==============================] - 4s 3ms/step - loss: 0.2254 - accuracy: 0.9224 - val_loss: 0.2386 - val_accuracy: 0.9195\n",
            "Epoch 17/20\n",
            "1375/1375 [==============================] - 4s 3ms/step - loss: 0.2230 - accuracy: 0.9232 - val_loss: 0.2405 - val_accuracy: 0.9175\n",
            "Epoch 18/20\n",
            "1375/1375 [==============================] - 4s 3ms/step - loss: 0.2201 - accuracy: 0.9243 - val_loss: 0.2429 - val_accuracy: 0.9158\n",
            "Epoch 19/20\n",
            "1375/1375 [==============================] - 4s 3ms/step - loss: 0.2178 - accuracy: 0.9251 - val_loss: 0.2328 - val_accuracy: 0.9205\n",
            "Epoch 20/20\n",
            "1375/1375 [==============================] - 4s 3ms/step - loss: 0.2156 - accuracy: 0.9262 - val_loss: 0.2332 - val_accuracy: 0.9208\n"
          ],
          "name": "stdout"
        }
      ]
    },
    {
      "cell_type": "code",
      "metadata": {
        "id": "4gsA5bzPv44i",
        "colab_type": "code",
        "colab": {}
      },
      "source": [
        "model_A.save(\"my_model_A.h5\")"
      ],
      "execution_count": 18,
      "outputs": []
    },
    {
      "cell_type": "markdown",
      "metadata": {
        "id": "jQTh7z24wrQY",
        "colab_type": "text"
      },
      "source": [
        "##Model B Architecture"
      ]
    },
    {
      "cell_type": "markdown",
      "metadata": {
        "id": "JnQMYH5TwwoM",
        "colab_type": "text"
      },
      "source": [
        "Build model_B (input=X_train_B)"
      ]
    },
    {
      "cell_type": "code",
      "metadata": {
        "id": "h1Gq5b-pwMuU",
        "colab_type": "code",
        "colab": {}
      },
      "source": [
        "model_B = keras.models.Sequential()\n",
        "model_B.add(keras.layers.Flatten(input_shape=[28, 28]))\n",
        "for n_hidden in (300, 100, 50, 50, 50):\n",
        "    model_B.add(keras.layers.Dense(n_hidden, activation=\"selu\"))\n",
        "model_B.add(keras.layers.Dense(1, activation=\"sigmoid\"))"
      ],
      "execution_count": 21,
      "outputs": []
    },
    {
      "cell_type": "code",
      "metadata": {
        "id": "v_8v-RNsw_CZ",
        "colab_type": "code",
        "colab": {}
      },
      "source": [
        "model_B.compile(loss=\"binary_crossentropy\",\n",
        "                optimizer=keras.optimizers.SGD(lr=1e-3),\n",
        "                metrics=[\"accuracy\"])"
      ],
      "execution_count": 22,
      "outputs": []
    },
    {
      "cell_type": "code",
      "metadata": {
        "id": "WCM3pNbFxAWh",
        "colab_type": "code",
        "colab": {
          "base_uri": "https://localhost:8080/",
          "height": 757
        },
        "outputId": "0b671ae8-7962-4b93-bfae-2264fe46a695"
      },
      "source": [
        "history = model_B.fit(X_train_B, y_train_B, epochs=20,\n",
        "                      validation_data=(X_valid_B, y_valid_B))"
      ],
      "execution_count": 23,
      "outputs": [
        {
          "output_type": "stream",
          "text": [
            "Epoch 1/20\n",
            "7/7 [==============================] - 0s 27ms/step - loss: 0.5486 - accuracy: 0.7300 - val_loss: 0.4821 - val_accuracy: 0.8012\n",
            "Epoch 2/20\n",
            "7/7 [==============================] - 0s 10ms/step - loss: 0.3941 - accuracy: 0.8550 - val_loss: 0.3780 - val_accuracy: 0.8682\n",
            "Epoch 3/20\n",
            "7/7 [==============================] - 0s 11ms/step - loss: 0.3016 - accuracy: 0.9150 - val_loss: 0.3135 - val_accuracy: 0.9087\n",
            "Epoch 4/20\n",
            "7/7 [==============================] - 0s 10ms/step - loss: 0.2448 - accuracy: 0.9600 - val_loss: 0.2684 - val_accuracy: 0.9260\n",
            "Epoch 5/20\n",
            "7/7 [==============================] - 0s 10ms/step - loss: 0.2043 - accuracy: 0.9750 - val_loss: 0.2376 - val_accuracy: 0.9391\n",
            "Epoch 6/20\n",
            "7/7 [==============================] - 0s 10ms/step - loss: 0.1761 - accuracy: 0.9800 - val_loss: 0.2146 - val_accuracy: 0.9483\n",
            "Epoch 7/20\n",
            "7/7 [==============================] - 0s 10ms/step - loss: 0.1553 - accuracy: 0.9800 - val_loss: 0.1972 - val_accuracy: 0.9533\n",
            "Epoch 8/20\n",
            "7/7 [==============================] - 0s 10ms/step - loss: 0.1390 - accuracy: 0.9900 - val_loss: 0.1827 - val_accuracy: 0.9564\n",
            "Epoch 9/20\n",
            "7/7 [==============================] - 0s 10ms/step - loss: 0.1256 - accuracy: 0.9900 - val_loss: 0.1685 - val_accuracy: 0.9635\n",
            "Epoch 10/20\n",
            "7/7 [==============================] - 0s 11ms/step - loss: 0.1136 - accuracy: 0.9900 - val_loss: 0.1578 - val_accuracy: 0.9655\n",
            "Epoch 11/20\n",
            "7/7 [==============================] - 0s 10ms/step - loss: 0.1040 - accuracy: 0.9950 - val_loss: 0.1490 - val_accuracy: 0.9686\n",
            "Epoch 12/20\n",
            "7/7 [==============================] - 0s 10ms/step - loss: 0.0960 - accuracy: 0.9950 - val_loss: 0.1416 - val_accuracy: 0.9686\n",
            "Epoch 13/20\n",
            "7/7 [==============================] - 0s 10ms/step - loss: 0.0892 - accuracy: 1.0000 - val_loss: 0.1351 - val_accuracy: 0.9686\n",
            "Epoch 14/20\n",
            "7/7 [==============================] - 0s 12ms/step - loss: 0.0834 - accuracy: 1.0000 - val_loss: 0.1289 - val_accuracy: 0.9696\n",
            "Epoch 15/20\n",
            "7/7 [==============================] - 0s 11ms/step - loss: 0.0778 - accuracy: 1.0000 - val_loss: 0.1236 - val_accuracy: 0.9716\n",
            "Epoch 16/20\n",
            "7/7 [==============================] - 0s 10ms/step - loss: 0.0733 - accuracy: 1.0000 - val_loss: 0.1191 - val_accuracy: 0.9726\n",
            "Epoch 17/20\n",
            "7/7 [==============================] - 0s 11ms/step - loss: 0.0692 - accuracy: 1.0000 - val_loss: 0.1151 - val_accuracy: 0.9736\n",
            "Epoch 18/20\n",
            "7/7 [==============================] - 0s 11ms/step - loss: 0.0656 - accuracy: 1.0000 - val_loss: 0.1112 - val_accuracy: 0.9757\n",
            "Epoch 19/20\n",
            "7/7 [==============================] - 0s 10ms/step - loss: 0.0622 - accuracy: 1.0000 - val_loss: 0.1075 - val_accuracy: 0.9777\n",
            "Epoch 20/20\n",
            "7/7 [==============================] - 0s 10ms/step - loss: 0.0590 - accuracy: 1.0000 - val_loss: 0.1046 - val_accuracy: 0.9767\n"
          ],
          "name": "stdout"
        }
      ]
    },
    {
      "cell_type": "code",
      "metadata": {
        "id": "nDcwblp2xBsT",
        "colab_type": "code",
        "colab": {
          "base_uri": "https://localhost:8080/",
          "height": 413
        },
        "outputId": "fab12810-adaa-46ec-a09a-2ce877ad1fd6"
      },
      "source": [
        "model_B.summary()"
      ],
      "execution_count": 25,
      "outputs": [
        {
          "output_type": "stream",
          "text": [
            "Model: \"sequential_2\"\n",
            "_________________________________________________________________\n",
            "Layer (type)                 Output Shape              Param #   \n",
            "=================================================================\n",
            "flatten_2 (Flatten)          (None, 784)               0         \n",
            "_________________________________________________________________\n",
            "dense_12 (Dense)             (None, 300)               235500    \n",
            "_________________________________________________________________\n",
            "dense_13 (Dense)             (None, 100)               30100     \n",
            "_________________________________________________________________\n",
            "dense_14 (Dense)             (None, 50)                5050      \n",
            "_________________________________________________________________\n",
            "dense_15 (Dense)             (None, 50)                2550      \n",
            "_________________________________________________________________\n",
            "dense_16 (Dense)             (None, 50)                2550      \n",
            "_________________________________________________________________\n",
            "dense_17 (Dense)             (None, 1)                 51        \n",
            "=================================================================\n",
            "Total params: 275,801\n",
            "Trainable params: 275,801\n",
            "Non-trainable params: 0\n",
            "_________________________________________________________________\n"
          ],
          "name": "stdout"
        }
      ]
    },
    {
      "cell_type": "markdown",
      "metadata": {
        "id": "-43LBodqxQrW",
        "colab_type": "text"
      },
      "source": [
        "##Load model A and create a new model based on that model's layers"
      ]
    },
    {
      "cell_type": "markdown",
      "metadata": {
        "id": "HoK-SvPQxim4",
        "colab_type": "text"
      },
      "source": [
        "Build model_B_on_A"
      ]
    },
    {
      "cell_type": "code",
      "metadata": {
        "id": "k-wdG66fxEeR",
        "colab_type": "code",
        "colab": {}
      },
      "source": [
        "model_A = keras.models.load_model(\"my_model_A.h5\")\n",
        "model_B_on_A = keras.models.Sequential(model_A.layers[:-1])\n",
        "model_B_on_A.add(keras.layers.Dense(1,activation=\"sigmoid\"))"
      ],
      "execution_count": 27,
      "outputs": []
    },
    {
      "cell_type": "markdown",
      "metadata": {
        "id": "daPhuZuCyEpo",
        "colab_type": "text"
      },
      "source": [
        "Note that model_A and model_B_on_A now shares some layers. When we train model_B_on_A, it will also affect model_A. To avoid that, we need to clone model_A before we reuse its layers.  \n",
        "To do this, we clone model A's architecture with clone.model(), then copy its weights."
      ]
    },
    {
      "cell_type": "code",
      "metadata": {
        "id": "oTY88jFmxhVH",
        "colab_type": "code",
        "colab": {}
      },
      "source": [
        "model_A_clone = keras.models.clone_model(model_A)\n",
        "model_A_clone.set_weights(model_A.get_weights())"
      ],
      "execution_count": 28,
      "outputs": []
    },
    {
      "cell_type": "code",
      "metadata": {
        "id": "xvwdOxI_3CdN",
        "colab_type": "code",
        "colab": {}
      },
      "source": [
        "for layer in model_B_on_A.layers[:-1]:\n",
        "  layer.trainable = False\n",
        "\n",
        "model_B_on_A.compile(loss=\"binary_crossentropy\",\n",
        "          optimizer=keras.optimizers.SGD(lr=1e-3),\n",
        "                     metrics=[\"accuracy\"])"
      ],
      "execution_count": 34,
      "outputs": []
    },
    {
      "cell_type": "code",
      "metadata": {
        "id": "QdXdWenK3YZz",
        "colab_type": "code",
        "colab": {
          "base_uri": "https://localhost:8080/",
          "height": 757
        },
        "outputId": "67568b5e-2798-4d91-a7df-a65d51412370"
      },
      "source": [
        "history = model_B_on_A.fit(X_train_B, y_train_B, epochs=4,\n",
        "              validation_data=(X_valid_B, y_valid_B))\n",
        "\n",
        "for layer in model_B_on_A.layers[:-1]:\n",
        "    layer.trainable = True\n",
        "\n",
        "model_B_on_A.compile(loss=\"binary_crossentropy\",\n",
        "          optimizer=keras.optimizers.SGD(lr=1e-3),\n",
        "          metrics=[\"accuracy\"])\n",
        "history = model_B_on_A.fit(X_train_B, y_train_B, epochs=16,\n",
        "              validation_data=(X_valid_B, y_valid_B))"
      ],
      "execution_count": 35,
      "outputs": [
        {
          "output_type": "stream",
          "text": [
            "Epoch 1/4\n",
            "7/7 [==============================] - 0s 28ms/step - loss: 0.4481 - accuracy: 0.8350 - val_loss: 0.4436 - val_accuracy: 0.8174\n",
            "Epoch 2/4\n",
            "7/7 [==============================] - 0s 9ms/step - loss: 0.4157 - accuracy: 0.8500 - val_loss: 0.4145 - val_accuracy: 0.8306\n",
            "Epoch 3/4\n",
            "7/7 [==============================] - 0s 10ms/step - loss: 0.3870 - accuracy: 0.8600 - val_loss: 0.3880 - val_accuracy: 0.8458\n",
            "Epoch 4/4\n",
            "7/7 [==============================] - 0s 9ms/step - loss: 0.3610 - accuracy: 0.8700 - val_loss: 0.3650 - val_accuracy: 0.8529\n",
            "Epoch 1/16\n",
            "7/7 [==============================] - 0s 27ms/step - loss: 0.2943 - accuracy: 0.9250 - val_loss: 0.2487 - val_accuracy: 0.9523\n",
            "Epoch 2/16\n",
            "7/7 [==============================] - 0s 11ms/step - loss: 0.2061 - accuracy: 0.9850 - val_loss: 0.1968 - val_accuracy: 0.9797\n",
            "Epoch 3/16\n",
            "7/7 [==============================] - 0s 11ms/step - loss: 0.1635 - accuracy: 0.9900 - val_loss: 0.1655 - val_accuracy: 0.9899\n",
            "Epoch 4/16\n",
            "7/7 [==============================] - 0s 11ms/step - loss: 0.1360 - accuracy: 1.0000 - val_loss: 0.1452 - val_accuracy: 0.9919\n",
            "Epoch 5/16\n",
            "7/7 [==============================] - 0s 12ms/step - loss: 0.1183 - accuracy: 1.0000 - val_loss: 0.1302 - val_accuracy: 0.9929\n",
            "Epoch 6/16\n",
            "7/7 [==============================] - 0s 11ms/step - loss: 0.1046 - accuracy: 1.0000 - val_loss: 0.1188 - val_accuracy: 0.9919\n",
            "Epoch 7/16\n",
            "7/7 [==============================] - 0s 11ms/step - loss: 0.0944 - accuracy: 1.0000 - val_loss: 0.1098 - val_accuracy: 0.9919\n",
            "Epoch 8/16\n",
            "7/7 [==============================] - 0s 11ms/step - loss: 0.0860 - accuracy: 1.0000 - val_loss: 0.1020 - val_accuracy: 0.9919\n",
            "Epoch 9/16\n",
            "7/7 [==============================] - 0s 11ms/step - loss: 0.0788 - accuracy: 1.0000 - val_loss: 0.0955 - val_accuracy: 0.9919\n",
            "Epoch 10/16\n",
            "7/7 [==============================] - 0s 10ms/step - loss: 0.0728 - accuracy: 1.0000 - val_loss: 0.0901 - val_accuracy: 0.9919\n",
            "Epoch 11/16\n",
            "7/7 [==============================] - 0s 10ms/step - loss: 0.0678 - accuracy: 1.0000 - val_loss: 0.0853 - val_accuracy: 0.9919\n",
            "Epoch 12/16\n",
            "7/7 [==============================] - 0s 13ms/step - loss: 0.0633 - accuracy: 1.0000 - val_loss: 0.0810 - val_accuracy: 0.9919\n",
            "Epoch 13/16\n",
            "7/7 [==============================] - 0s 10ms/step - loss: 0.0593 - accuracy: 1.0000 - val_loss: 0.0772 - val_accuracy: 0.9919\n",
            "Epoch 14/16\n",
            "7/7 [==============================] - 0s 12ms/step - loss: 0.0557 - accuracy: 1.0000 - val_loss: 0.0740 - val_accuracy: 0.9919\n",
            "Epoch 15/16\n",
            "7/7 [==============================] - 0s 10ms/step - loss: 0.0527 - accuracy: 1.0000 - val_loss: 0.0711 - val_accuracy: 0.9919\n",
            "Epoch 16/16\n",
            "7/7 [==============================] - 0s 10ms/step - loss: 0.0500 - accuracy: 1.0000 - val_loss: 0.0684 - val_accuracy: 0.9919\n"
          ],
          "name": "stdout"
        }
      ]
    },
    {
      "cell_type": "code",
      "metadata": {
        "id": "rBOZAoP63eqb",
        "colab_type": "code",
        "colab": {
          "base_uri": "https://localhost:8080/",
          "height": 53
        },
        "outputId": "379801ed-7b30-4559-8c36-df4e356cffdf"
      },
      "source": [
        "model_B.evaluate(X_test_B, y_test_B)"
      ],
      "execution_count": 36,
      "outputs": [
        {
          "output_type": "stream",
          "text": [
            "63/63 [==============================] - 0s 2ms/step - loss: 0.0931 - accuracy: 0.9835\n"
          ],
          "name": "stdout"
        },
        {
          "output_type": "execute_result",
          "data": {
            "text/plain": [
              "[0.09306484460830688, 0.9835000038146973]"
            ]
          },
          "metadata": {
            "tags": []
          },
          "execution_count": 36
        }
      ]
    },
    {
      "cell_type": "code",
      "metadata": {
        "id": "_BLao3lH31hQ",
        "colab_type": "code",
        "colab": {
          "base_uri": "https://localhost:8080/",
          "height": 53
        },
        "outputId": "714363ae-5405-4ed7-9ec3-579f0a1c5744"
      },
      "source": [
        "model_B_on_A.evaluate(X_test_B, y_test_B)"
      ],
      "execution_count": 37,
      "outputs": [
        {
          "output_type": "stream",
          "text": [
            "63/63 [==============================] - 0s 2ms/step - loss: 0.0635 - accuracy: 0.9980\n"
          ],
          "name": "stdout"
        },
        {
          "output_type": "execute_result",
          "data": {
            "text/plain": [
              "[0.06347920745611191, 0.9980000257492065]"
            ]
          },
          "metadata": {
            "tags": []
          },
          "execution_count": 37
        }
      ]
    },
    {
      "cell_type": "markdown",
      "metadata": {
        "id": "BI71GbSK38fa",
        "colab_type": "text"
      },
      "source": [
        "Great! We got quite a bit of transfer: the error rate dropped by a fatcor of 4!"
      ]
    },
    {
      "cell_type": "code",
      "metadata": {
        "id": "05tTBpIQ33Lk",
        "colab_type": "code",
        "colab": {
          "base_uri": "https://localhost:8080/",
          "height": 35
        },
        "outputId": "bc50a4cc-24a9-4976-b281-5dde3d96ec2d"
      },
      "source": [
        "(100 - 96.95) / (100 - 99.25)"
      ],
      "execution_count": 38,
      "outputs": [
        {
          "output_type": "execute_result",
          "data": {
            "text/plain": [
              "4.066666666666663"
            ]
          },
          "metadata": {
            "tags": []
          },
          "execution_count": 38
        }
      ]
    },
    {
      "cell_type": "code",
      "metadata": {
        "id": "ir_Y3k5g4EE4",
        "colab_type": "code",
        "colab": {}
      },
      "source": [
        ""
      ],
      "execution_count": null,
      "outputs": []
    }
  ]
}
