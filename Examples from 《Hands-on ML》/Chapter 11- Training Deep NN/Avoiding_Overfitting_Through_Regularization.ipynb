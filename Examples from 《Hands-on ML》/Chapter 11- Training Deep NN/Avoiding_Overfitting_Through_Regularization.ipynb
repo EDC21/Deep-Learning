{
  "nbformat": 4,
  "nbformat_minor": 0,
  "metadata": {
    "colab": {
      "name": "Avoiding Overfitting Through Regularization.ipynb",
      "provenance": [],
      "authorship_tag": "ABX9TyPG05nieOZYsSxm/+ahBc9a",
      "include_colab_link": true
    },
    "kernelspec": {
      "name": "python3",
      "display_name": "Python 3"
    }
  },
  "cells": [
    {
      "cell_type": "markdown",
      "metadata": {
        "id": "view-in-github",
        "colab_type": "text"
      },
      "source": [
        "<a href=\"https://colab.research.google.com/github/EDC21/Deep-Learning/blob/master/Examples%20from%20%E3%80%8AHands-on%20ML%E3%80%8B/Chapter%2011-%20Training%20Deep%20NN/Avoiding_Overfitting_Through_Regularization.ipynb\" target=\"_parent\"><img src=\"https://colab.research.google.com/assets/colab-badge.svg\" alt=\"Open In Colab\"/></a>"
      ]
    },
    {
      "cell_type": "markdown",
      "metadata": {
        "id": "2vaxTwrt6ZUA",
        "colab_type": "text"
      },
      "source": [
        "## $\\ell_1$ and $\\ell_2$ regularization"
      ]
    },
    {
      "cell_type": "code",
      "metadata": {
        "id": "6GbJFjPy6JPK",
        "colab_type": "code",
        "colab": {}
      },
      "source": [
        "import sys\n",
        "assert sys.version_info >= (3, 5)\n",
        "\n",
        "# Scikit-Learn ≥0.20 is required\n",
        "import sklearn\n",
        "assert sklearn.__version__ >= \"0.20\"\n",
        "\n",
        "try:\n",
        "    # %tensorflow_version only exists in Colab.\n",
        "    %tensorflow_version 2.x\n",
        "except Exception:\n",
        "    pass\n",
        "\n",
        "# TensorFlow ≥2.0 is required\n",
        "import tensorflow as tf\n",
        "from tensorflow import keras\n",
        "assert tf.__version__ >= \"2.0\"\n",
        "\n",
        "%load_ext tensorboard\n",
        "\n",
        "# Common imports\n",
        "import numpy as np\n",
        "import os\n",
        "\n",
        "# to make this notebook's output stable across runs\n",
        "np.random.seed(42)\n",
        "\n",
        "# To plot pretty figures\n",
        "%matplotlib inline\n",
        "import matplotlib as mpl\n",
        "import matplotlib.pyplot as plt\n",
        "mpl.rc('axes', labelsize=14)\n",
        "mpl.rc('xtick', labelsize=12)\n",
        "mpl.rc('ytick', labelsize=12)\n",
        "\n",
        "# Where to save the figures\n",
        "PROJECT_ROOT_DIR = \".\"\n",
        "CHAPTER_ID = \"deep\"\n",
        "IMAGES_PATH = os.path.join(PROJECT_ROOT_DIR, \"images\", CHAPTER_ID)\n",
        "os.makedirs(IMAGES_PATH, exist_ok=True)"
      ],
      "execution_count": 1,
      "outputs": []
    },
    {
      "cell_type": "code",
      "metadata": {
        "id": "FO2TT3V27pJn",
        "colab_type": "code",
        "colab": {}
      },
      "source": [
        "(X_train_full, y_train_full), (X_test, y_test) = keras.datasets.fashion_mnist.load_data()\n",
        "X_train_full = X_train_full / 255.0\n",
        "X_test = X_test / 255.0\n",
        "X_valid, X_train = X_train_full[:5000], X_train_full[5000:]\n",
        "y_valid, y_train = y_train_full[:5000], y_train_full[5000:]\n",
        "\n",
        "pixel_means = X_train.mean(axis=0, keepdims=True)\n",
        "pixel_stds = X_train.std(axis=0, keepdims=True)\n",
        "X_train_scaled = (X_train - pixel_means) / pixel_stds\n",
        "X_valid_scaled = (X_valid - pixel_means) / pixel_stds\n",
        "X_test_scaled = (X_test - pixel_means) / pixel_stds"
      ],
      "execution_count": 3,
      "outputs": []
    },
    {
      "cell_type": "code",
      "metadata": {
        "id": "MvFhbn9y78VO",
        "colab_type": "code",
        "colab": {}
      },
      "source": [
        "layer = keras.layers.Dense(100, activation=\"elu\",\n",
        "              kernel_initializer=\"he_normal\",\n",
        "              kernel_regularizer=keras.regularizers.l2(0.01))"
      ],
      "execution_count": 4,
      "outputs": []
    },
    {
      "cell_type": "code",
      "metadata": {
        "id": "JtdI3khJ8LI_",
        "colab_type": "code",
        "colab": {
          "base_uri": "https://localhost:8080/",
          "height": 109
        },
        "outputId": "6e889bc9-57f8-4a1b-b1cc-4a6118b52e14"
      },
      "source": [
        "model = keras.models.Sequential([\n",
        "    keras.layers.Flatten(input_shape=[28, 28]),\n",
        "    keras.layers.Dense(300, activation=\"elu\",\n",
        "                       kernel_initializer=\"he_normal\",\n",
        "                       kernel_regularizer=keras.regularizers.l2(0.01)),\n",
        "    keras.layers.Dense(100, activation=\"elu\",\n",
        "                       kernel_initializer=\"he_normal\",\n",
        "                       kernel_regularizer=keras.regularizers.l2(0.01)),\n",
        "    keras.layers.Dense(10, activation=\"softmax\",\n",
        "                       kernel_regularizer=keras.regularizers.l2(0.01))\n",
        "])\n",
        "model.compile(loss=\"sparse_categorical_crossentropy\", optimizer=\"nadam\", metrics=[\"accuracy\"])\n",
        "n_epochs = 2\n",
        "history = model.fit(X_train_scaled, y_train, epochs=n_epochs,\n",
        "                    validation_data=(X_valid_scaled, y_valid))"
      ],
      "execution_count": 5,
      "outputs": [
        {
          "output_type": "stream",
          "text": [
            "Epoch 1/2\n",
            "1719/1719 [==============================] - 10s 6ms/step - loss: 1.6089 - accuracy: 0.8148 - val_loss: 0.7397 - val_accuracy: 0.8206\n",
            "Epoch 2/2\n",
            "1719/1719 [==============================] - 10s 6ms/step - loss: 0.7180 - accuracy: 0.8279 - val_loss: 0.6806 - val_accuracy: 0.8438\n"
          ],
          "name": "stdout"
        }
      ]
    },
    {
      "cell_type": "markdown",
      "metadata": {
        "id": "RPiBZNJY8VEx",
        "colab_type": "text"
      },
      "source": [
        "For layers with same activation and initialization, we can use functools.partial() to avoid repeating the same codes."
      ]
    },
    {
      "cell_type": "markdown",
      "metadata": {
        "id": "nA-dCZYV9W-_",
        "colab_type": "text"
      },
      "source": [
        ""
      ]
    },
    {
      "cell_type": "code",
      "metadata": {
        "id": "ipKEDYky8Pld",
        "colab_type": "code",
        "colab": {
          "base_uri": "https://localhost:8080/",
          "height": 109
        },
        "outputId": "75c80214-0fb7-46c5-cb6e-aba5a4bb3995"
      },
      "source": [
        "from functools import partial\n",
        "\n",
        "RegularizedDense = partial(keras.layers.Dense,\n",
        "              activation=\"elu\",\n",
        "              kernel_initializer=\"he_normal\",\n",
        "              kernel_regularizer=keras.regularizers.l2(0.01))\n",
        "\n",
        "model = keras.models.Sequential([\n",
        "    keras.layers.Flatten(input_shape=[28,28]),\n",
        "    RegularizedDense(300),\n",
        "        RegularizedDense(100),\n",
        "    RegularizedDense(10, activation=\"softmax\")\n",
        "])\n",
        "\n",
        "model.compile(loss=\"sparse_categorical_crossentropy\",optimizer=\"nadam\", metrics=[\"accuracy\"])\n",
        "n_epochs = 2\n",
        "history = model.fit(X_train_scaled, y_train, epochs=n_epochs,\n",
        "                    validation_data=(X_valid_scaled, y_valid))"
      ],
      "execution_count": 7,
      "outputs": [
        {
          "output_type": "stream",
          "text": [
            "Epoch 1/2\n",
            "1719/1719 [==============================] - 10s 6ms/step - loss: 1.6943 - accuracy: 0.8133 - val_loss: 0.7193 - val_accuracy: 0.8312\n",
            "Epoch 2/2\n",
            "1719/1719 [==============================] - 10s 6ms/step - loss: 0.7182 - accuracy: 0.8296 - val_loss: 0.6867 - val_accuracy: 0.8444\n"
          ],
          "name": "stdout"
        }
      ]
    },
    {
      "cell_type": "markdown",
      "metadata": {
        "id": "UZIDqh7Z9YPt",
        "colab_type": "text"
      },
      "source": [
        "#Dropout"
      ]
    },
    {
      "cell_type": "markdown",
      "metadata": {
        "id": "grVTlVtK95_U",
        "colab_type": "text"
      },
      "source": [
        "Concept: At every training step, every neuron(including the input neurons) has a probability p of being temporarily \"dropped out\", meaning it will be entirely ignored during this training step, but it may be active during the next step.  \n",
        "\n",
        "The hyperparametr p is called the dropout rate, and it is typically set between 10~50%: closer to 20~30% in RNN, and closer tp 40~50% in CNN.  \n",
        "\n",
        "After training, neurons don't get dropped anymore."
      ]
    },
    {
      "cell_type": "code",
      "metadata": {
        "id": "_hBhaz_l9OY-",
        "colab_type": "code",
        "colab": {
          "base_uri": "https://localhost:8080/",
          "height": 109
        },
        "outputId": "747d4a3b-f7bb-4c5a-d083-bcf98b5e0c45"
      },
      "source": [
        "model = keras.models.Sequential([\n",
        "    keras.layers.Flatten(input_shape=[28, 28]),\n",
        "    keras.layers.Dropout(rate=0.2),\n",
        "    keras.layers.Dense(300, activation=\"elu\", kernel_initializer=\"he_normal\"),\n",
        "    keras.layers.Dropout(rate=0.2),\n",
        "    keras.layers.Dense(100, activation=\"elu\", kernel_initializer=\"he_normal\"),\n",
        "    keras.layers.Dropout(rate=0.2),\n",
        "    keras.layers.Dense(10, activation=\"softmax\")\n",
        "])\n",
        "model.compile(loss=\"sparse_categorical_crossentropy\", optimizer=\"nadam\", metrics=[\"accuracy\"])\n",
        "n_epochs = 2\n",
        "history = model.fit(X_train_scaled, y_train, epochs=n_epochs,\n",
        "                    validation_data=(X_valid_scaled, y_valid))"
      ],
      "execution_count": 8,
      "outputs": [
        {
          "output_type": "stream",
          "text": [
            "Epoch 1/2\n",
            "1719/1719 [==============================] - 10s 6ms/step - loss: 0.5725 - accuracy: 0.8026 - val_loss: 0.3599 - val_accuracy: 0.8652\n",
            "Epoch 2/2\n",
            "1719/1719 [==============================] - 10s 6ms/step - loss: 0.4224 - accuracy: 0.8450 - val_loss: 0.3283 - val_accuracy: 0.8774\n"
          ],
          "name": "stdout"
        }
      ]
    },
    {
      "cell_type": "markdown",
      "metadata": {
        "id": "HXOdtKhh-9Qt",
        "colab_type": "text"
      },
      "source": [
        "#Alpha Dropout"
      ]
    },
    {
      "cell_type": "markdown",
      "metadata": {
        "id": "79ZuIpkz_B40",
        "colab_type": "text"
      },
      "source": [
        "IF we want to regularize a self-normalizing network based on the SELU activation fuction, we should use alpha dropout:a variant of dropout that preserves the mean and standard deviation of its inputs."
      ]
    },
    {
      "cell_type": "code",
      "metadata": {
        "id": "NXFcNifY-tTC",
        "colab_type": "code",
        "colab": {}
      },
      "source": [
        "tf.random.set_seed(42)\n",
        "np.random.seed(42)"
      ],
      "execution_count": 9,
      "outputs": []
    },
    {
      "cell_type": "code",
      "metadata": {
        "id": "As_Q2v7x_Tzt",
        "colab_type": "code",
        "colab": {
          "base_uri": "https://localhost:8080/",
          "height": 757
        },
        "outputId": "ebf6bf35-4061-40ea-9701-500aaf06ac6a"
      },
      "source": [
        "model = keras.models.Sequential([\n",
        "    keras.layers.Flatten(input_shape=[28, 28]),\n",
        "    keras.layers.AlphaDropout(rate=0.2),\n",
        "    keras.layers.Dense(300, activation=\"selu\", kernel_initializer=\"lecun_normal\"),\n",
        "    keras.layers.AlphaDropout(rate=0.2),\n",
        "    keras.layers.Dense(100, activation=\"selu\", kernel_initializer=\"lecun_normal\"),\n",
        "    keras.layers.AlphaDropout(rate=0.2),\n",
        "    keras.layers.Dense(10, activation=\"softmax\")\n",
        "])\n",
        "optimizer = keras.optimizers.SGD(lr=0.01, momentum=0.9, nesterov=True)\n",
        "model.compile(loss=\"sparse_categorical_crossentropy\", optimizer=optimizer, metrics=[\"accuracy\"])\n",
        "n_epochs = 20\n",
        "history = model.fit(X_train_scaled, y_train, epochs=n_epochs,\n",
        "                    validation_data=(X_valid_scaled, y_valid))"
      ],
      "execution_count": 10,
      "outputs": [
        {
          "output_type": "stream",
          "text": [
            "Epoch 1/20\n",
            "1719/1719 [==============================] - 6s 4ms/step - loss: 0.6653 - accuracy: 0.7594 - val_loss: 0.5917 - val_accuracy: 0.8416\n",
            "Epoch 2/20\n",
            "1719/1719 [==============================] - 6s 4ms/step - loss: 0.5606 - accuracy: 0.7936 - val_loss: 0.5554 - val_accuracy: 0.8404\n",
            "Epoch 3/20\n",
            "1719/1719 [==============================] - 6s 4ms/step - loss: 0.5283 - accuracy: 0.8054 - val_loss: 0.4850 - val_accuracy: 0.8582\n",
            "Epoch 4/20\n",
            "1719/1719 [==============================] - 6s 4ms/step - loss: 0.5072 - accuracy: 0.8119 - val_loss: 0.4621 - val_accuracy: 0.8604\n",
            "Epoch 5/20\n",
            "1719/1719 [==============================] - 6s 4ms/step - loss: 0.4920 - accuracy: 0.8183 - val_loss: 0.4679 - val_accuracy: 0.8580\n",
            "Epoch 6/20\n",
            "1719/1719 [==============================] - 6s 4ms/step - loss: 0.4871 - accuracy: 0.8190 - val_loss: 0.4740 - val_accuracy: 0.8588\n",
            "Epoch 7/20\n",
            "1719/1719 [==============================] - 6s 4ms/step - loss: 0.4718 - accuracy: 0.8246 - val_loss: 0.4656 - val_accuracy: 0.8684\n",
            "Epoch 8/20\n",
            "1719/1719 [==============================] - 6s 4ms/step - loss: 0.4637 - accuracy: 0.8288 - val_loss: 0.4745 - val_accuracy: 0.8606\n",
            "Epoch 9/20\n",
            "1719/1719 [==============================] - 6s 4ms/step - loss: 0.4579 - accuracy: 0.8303 - val_loss: 0.4101 - val_accuracy: 0.8714\n",
            "Epoch 10/20\n",
            "1719/1719 [==============================] - 6s 4ms/step - loss: 0.4535 - accuracy: 0.8317 - val_loss: 0.4666 - val_accuracy: 0.8636\n",
            "Epoch 11/20\n",
            "1719/1719 [==============================] - 6s 4ms/step - loss: 0.4490 - accuracy: 0.8323 - val_loss: 0.4231 - val_accuracy: 0.8666\n",
            "Epoch 12/20\n",
            "1719/1719 [==============================] - 6s 4ms/step - loss: 0.4466 - accuracy: 0.8333 - val_loss: 0.5583 - val_accuracy: 0.8476\n",
            "Epoch 13/20\n",
            "1719/1719 [==============================] - 6s 4ms/step - loss: 0.4422 - accuracy: 0.8366 - val_loss: 0.4625 - val_accuracy: 0.8670\n",
            "Epoch 14/20\n",
            "1719/1719 [==============================] - 6s 4ms/step - loss: 0.4316 - accuracy: 0.8391 - val_loss: 0.4628 - val_accuracy: 0.8684\n",
            "Epoch 15/20\n",
            "1719/1719 [==============================] - 6s 4ms/step - loss: 0.4324 - accuracy: 0.8372 - val_loss: 0.4318 - val_accuracy: 0.8714\n",
            "Epoch 16/20\n",
            "1719/1719 [==============================] - 6s 4ms/step - loss: 0.4300 - accuracy: 0.8414 - val_loss: 0.4236 - val_accuracy: 0.8748\n",
            "Epoch 17/20\n",
            "1719/1719 [==============================] - 6s 4ms/step - loss: 0.4279 - accuracy: 0.8410 - val_loss: 0.5541 - val_accuracy: 0.8564\n",
            "Epoch 18/20\n",
            "1719/1719 [==============================] - 6s 4ms/step - loss: 0.4269 - accuracy: 0.8404 - val_loss: 0.5000 - val_accuracy: 0.8710\n",
            "Epoch 19/20\n",
            "1719/1719 [==============================] - 6s 4ms/step - loss: 0.4220 - accuracy: 0.8438 - val_loss: 0.4850 - val_accuracy: 0.8740\n",
            "Epoch 20/20\n",
            "1719/1719 [==============================] - 6s 4ms/step - loss: 0.4235 - accuracy: 0.8430 - val_loss: 0.4067 - val_accuracy: 0.8766\n"
          ],
          "name": "stdout"
        }
      ]
    },
    {
      "cell_type": "code",
      "metadata": {
        "id": "KeW9bB-S_Vzr",
        "colab_type": "code",
        "colab": {
          "base_uri": "https://localhost:8080/",
          "height": 53
        },
        "outputId": "50fc7f7e-f01b-4114-9d30-380f023e32d3"
      },
      "source": [
        "model.evaluate(X_test_scaled, y_test)"
      ],
      "execution_count": 11,
      "outputs": [
        {
          "output_type": "stream",
          "text": [
            "313/313 [==============================] - 0s 1ms/step - loss: 0.4421 - accuracy: 0.8669\n"
          ],
          "name": "stdout"
        },
        {
          "output_type": "execute_result",
          "data": {
            "text/plain": [
              "[0.44206303358078003, 0.8669000267982483]"
            ]
          },
          "metadata": {
            "tags": []
          },
          "execution_count": 11
        }
      ]
    },
    {
      "cell_type": "code",
      "metadata": {
        "id": "5Ryv-9S5_YbS",
        "colab_type": "code",
        "colab": {
          "base_uri": "https://localhost:8080/",
          "height": 53
        },
        "outputId": "9fa271b1-bf30-48a6-ffe5-84a5384681a8"
      },
      "source": [
        "model.evaluate(X_train_scaled, y_train)"
      ],
      "execution_count": 12,
      "outputs": [
        {
          "output_type": "stream",
          "text": [
            "1719/1719 [==============================] - 2s 1ms/step - loss: 0.3284 - accuracy: 0.8893\n"
          ],
          "name": "stdout"
        },
        {
          "output_type": "execute_result",
          "data": {
            "text/plain": [
              "[0.3283841609954834, 0.8892545700073242]"
            ]
          },
          "metadata": {
            "tags": []
          },
          "execution_count": 12
        }
      ]
    },
    {
      "cell_type": "code",
      "metadata": {
        "id": "b1I_J-nt_b6L",
        "colab_type": "code",
        "colab": {
          "base_uri": "https://localhost:8080/",
          "height": 35
        },
        "outputId": "f06d009f-a832-43dd-aa2a-6daba39334a5"
      },
      "source": [
        "history = model.fit(X_train_scaled, y_train)"
      ],
      "execution_count": 13,
      "outputs": [
        {
          "output_type": "stream",
          "text": [
            "1719/1719 [==============================] - 6s 4ms/step - loss: 0.4161 - accuracy: 0.8452\n"
          ],
          "name": "stdout"
        }
      ]
    },
    {
      "cell_type": "markdown",
      "metadata": {
        "id": "zYZtvThKAqmg",
        "colab_type": "text"
      },
      "source": [
        "#Max Norm"
      ]
    },
    {
      "cell_type": "code",
      "metadata": {
        "id": "x3J3XEOiApxP",
        "colab_type": "code",
        "colab": {}
      },
      "source": [
        "layer = keras.layers.Dense(100, activation=\"selu\", kernel_initializer=\"lecun_normal\",\n",
        "                    kernel_constraint=keras.constraints.max_norm(1.))"
      ],
      "execution_count": 14,
      "outputs": []
    },
    {
      "cell_type": "code",
      "metadata": {
        "id": "Cdpo1Wg_A79K",
        "colab_type": "code",
        "colab": {
          "base_uri": "https://localhost:8080/",
          "height": 109
        },
        "outputId": "53e75986-138b-4434-94fb-ad52e30edcc8"
      },
      "source": [
        "MaxNormDense = partial(keras.layers.Dense,\n",
        "            activation=\"selu\", kernel_initializer=\"lecun_normal\",\n",
        "            kernel_constraint=keras.constraints.max_norm(1.))\n",
        "\n",
        "model = keras.models.Sequential([\n",
        "   keras.layers.Flatten(input_shape=[28,28]),\n",
        "   MaxNormDense(300),\n",
        "   MaxNormDense(100),\n",
        "   keras.layers.Dense(10, activation=\"softmax\")                              \n",
        "])\n",
        "\n",
        "model.compile(loss=\"sparse_categorical_crossentropy\", optimizer=\"nadam\", metrics=[\"accuracy\"])\n",
        "n_epochs = 2\n",
        "history = model.fit(X_train_scaled, y_train, epochs=n_epochs,\n",
        "                    validation_data=(X_valid_scaled, y_valid))"
      ],
      "execution_count": 17,
      "outputs": [
        {
          "output_type": "stream",
          "text": [
            "Epoch 1/2\n",
            "1719/1719 [==============================] - 10s 6ms/step - loss: 0.4745 - accuracy: 0.8329 - val_loss: 0.3773 - val_accuracy: 0.8622\n",
            "Epoch 2/2\n",
            "1719/1719 [==============================] - 10s 6ms/step - loss: 0.3532 - accuracy: 0.8717 - val_loss: 0.3818 - val_accuracy: 0.8648\n"
          ],
          "name": "stdout"
        }
      ]
    },
    {
      "cell_type": "code",
      "metadata": {
        "id": "KoW6g2OOBK3e",
        "colab_type": "code",
        "colab": {}
      },
      "source": [
        ""
      ],
      "execution_count": 15,
      "outputs": []
    }
  ]
}