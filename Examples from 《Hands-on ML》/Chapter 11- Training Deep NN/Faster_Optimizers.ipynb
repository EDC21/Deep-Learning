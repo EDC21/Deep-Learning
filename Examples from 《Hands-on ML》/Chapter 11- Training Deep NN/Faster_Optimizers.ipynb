{
  "nbformat": 4,
  "nbformat_minor": 0,
  "metadata": {
    "colab": {
      "name": "Faster Optimizers.ipynb",
      "provenance": [],
      "collapsed_sections": [
        "Nx2Y5omQcAl0",
        "WyOVvP5OcSB1",
        "4dkUs400gqeL",
        "Ynjl0RbZg-W5",
        "30Qc3W_UhDOK",
        "-AMAFGwkjbEY"
      ],
      "authorship_tag": "ABX9TyPf9rKaapCwhlHPrS7pYpH5",
      "include_colab_link": true
    },
    "kernelspec": {
      "name": "python3",
      "display_name": "Python 3"
    }
  },
  "cells": [
    {
      "cell_type": "markdown",
      "metadata": {
        "id": "view-in-github",
        "colab_type": "text"
      },
      "source": [
        "<a href=\"https://colab.research.google.com/github/EDC21/Deep-Learning/blob/master/Examples%20from%20%E3%80%8AHands-on%20ML%E3%80%8B/Chapter%2011-%20Training%20Deep%20NN/Faster_Optimizers.ipynb\" target=\"_parent\"><img src=\"https://colab.research.google.com/assets/colab-badge.svg\" alt=\"Open In Colab\"/></a>"
      ]
    },
    {
      "cell_type": "markdown",
      "metadata": {
        "id": "xejUbxmhbzWu",
        "colab_type": "text"
      },
      "source": [
        "#Faster Optimizers"
      ]
    },
    {
      "cell_type": "markdown",
      "metadata": {
        "id": "Nx2Y5omQcAl0",
        "colab_type": "text"
      },
      "source": [
        "##Momentum optimization"
      ]
    },
    {
      "cell_type": "code",
      "metadata": {
        "id": "zLi3fsBvgoHh",
        "colab_type": "code",
        "colab": {}
      },
      "source": [
        "import sys\n",
        "assert sys.version_info >= (3, 5)\n",
        "\n",
        "# Scikit-Learn ≥0.20 is required\n",
        "import sklearn\n",
        "assert sklearn.__version__ >= \"0.20\"\n",
        "\n",
        "try:\n",
        "    # %tensorflow_version only exists in Colab.\n",
        "    %tensorflow_version 2.x\n",
        "except Exception:\n",
        "    pass\n",
        "\n",
        "# TensorFlow ≥2.0 is required\n",
        "import tensorflow as tf\n",
        "from tensorflow import keras\n",
        "assert tf.__version__ >= \"2.0\"\n",
        "\n",
        "%load_ext tensorboard\n",
        "\n",
        "# Common imports\n",
        "import numpy as np\n",
        "import os\n",
        "\n",
        "# to make this notebook's output stable across runs\n",
        "np.random.seed(42)\n",
        "\n",
        "# To plot pretty figures\n",
        "%matplotlib inline\n",
        "import matplotlib as mpl\n",
        "import matplotlib.pyplot as plt\n",
        "mpl.rc('axes', labelsize=14)\n",
        "mpl.rc('xtick', labelsize=12)\n",
        "mpl.rc('ytick', labelsize=12)"
      ],
      "execution_count": null,
      "outputs": []
    },
    {
      "cell_type": "code",
      "metadata": {
        "id": "WXagnNdxZgbe",
        "colab_type": "code",
        "colab": {}
      },
      "source": [
        "optimizer = keras.optimizers.SGD(lr=0.01, momentum=0.9)"
      ],
      "execution_count": null,
      "outputs": []
    },
    {
      "cell_type": "markdown",
      "metadata": {
        "id": "WyOVvP5OcSB1",
        "colab_type": "text"
      },
      "source": [
        "## Nesterov Accelerated Gradient"
      ]
    },
    {
      "cell_type": "code",
      "metadata": {
        "id": "g0WhSVmmb-1s",
        "colab_type": "code",
        "colab": {}
      },
      "source": [
        "optimizer = keras.optimizers.SGD(lr=0.001, momentum=0.9, nesterov=True)"
      ],
      "execution_count": null,
      "outputs": []
    },
    {
      "cell_type": "markdown",
      "metadata": {
        "id": "4dkUs400gqeL",
        "colab_type": "text"
      },
      "source": [
        "## AdaGrad"
      ]
    },
    {
      "cell_type": "code",
      "metadata": {
        "id": "gsAvRqopgpSs",
        "colab_type": "code",
        "colab": {}
      },
      "source": [
        "optimizer = keras.optimizers.Adagrad(lr=0.001)"
      ],
      "execution_count": null,
      "outputs": []
    },
    {
      "cell_type": "markdown",
      "metadata": {
        "id": "Ynjl0RbZg-W5",
        "colab_type": "text"
      },
      "source": [
        "## RMSProp"
      ]
    },
    {
      "cell_type": "code",
      "metadata": {
        "id": "ODuXnZtAhADX",
        "colab_type": "code",
        "colab": {}
      },
      "source": [
        "optimizer = keras.optimizers.RMSprop(lr=0.001, rho=0.9)"
      ],
      "execution_count": null,
      "outputs": []
    },
    {
      "cell_type": "markdown",
      "metadata": {
        "id": "30Qc3W_UhDOK",
        "colab_type": "text"
      },
      "source": [
        "## Adam Optimization\n"
      ]
    },
    {
      "cell_type": "code",
      "metadata": {
        "id": "4swjyPrphC0N",
        "colab_type": "code",
        "colab": {}
      },
      "source": [
        "optimizer = keras.optimizers.Adam(lr=0.001, beta_1=0.9, beta_2=0.999)"
      ],
      "execution_count": null,
      "outputs": []
    },
    {
      "cell_type": "markdown",
      "metadata": {
        "id": "-AMAFGwkjbEY",
        "colab_type": "text"
      },
      "source": [
        "## Adamax Optimization"
      ]
    },
    {
      "cell_type": "code",
      "metadata": {
        "id": "yUqELyoCjanP",
        "colab_type": "code",
        "colab": {}
      },
      "source": [
        "optimizer = keras.optimizers.Adamax(lr=0.001, beta_1=0.9, beta_2=0.999)"
      ],
      "execution_count": null,
      "outputs": []
    },
    {
      "cell_type": "markdown",
      "metadata": {
        "id": "TdCDBkbqjfwk",
        "colab_type": "text"
      },
      "source": [
        "## Nadam Optimization"
      ]
    },
    {
      "cell_type": "code",
      "metadata": {
        "id": "EeAD11M_jfEn",
        "colab_type": "code",
        "colab": {}
      },
      "source": [
        "optimizer = keras.optimizers.Nadam(lr=0.001, beta_1=0.9, beta_2=0.999)"
      ],
      "execution_count": null,
      "outputs": []
    },
    {
      "cell_type": "code",
      "metadata": {
        "id": "8q1NrFNhjirs",
        "colab_type": "code",
        "colab": {}
      },
      "source": [
        ""
      ],
      "execution_count": null,
      "outputs": []
    },
    {
      "cell_type": "markdown",
      "metadata": {
        "id": "fIjQ6kADlhXz",
        "colab_type": "text"
      },
      "source": [
        "#Learning Rate Scheduling"
      ]
    },
    {
      "cell_type": "markdown",
      "metadata": {
        "id": "t0VtmJrnllG3",
        "colab_type": "text"
      },
      "source": [
        "##Power Scheduling"
      ]
    },
    {
      "cell_type": "markdown",
      "metadata": {
        "id": "5aN34SA-lsAa",
        "colab_type": "text"
      },
      "source": [
        "Set the learning rate to a function of the iteration number.  \n",
        "```lr = lr0 / (1 + steps / s)**c```\n",
        "* Keras uses `c=1` and `s = 1 / decay`"
      ]
    },
    {
      "cell_type": "code",
      "metadata": {
        "id": "px-bBCDplkEw",
        "colab_type": "code",
        "colab": {
          "base_uri": "https://localhost:8080/",
          "height": 161
        },
        "outputId": "79b8240d-4377-44b2-c73d-a0f480fa50ab"
      },
      "source": [
        "(X_train_full, y_train_full), (X_test, y_test) = keras.datasets.fashion_mnist.load_data()\n",
        "X_train_full = X_train_full / 255.0\n",
        "X_test = X_test / 255.0\n",
        "X_valid, X_train = X_train_full[:5000], X_train_full[5000:]\n",
        "y_valid, y_train = y_train_full[:5000], y_train_full[5000:]\n",
        "\n",
        "pixel_means = X_train.mean(axis=0, keepdims=True)\n",
        "pixel_stds = X_train.std(axis=0, keepdims=True)\n",
        "X_train_scaled = (X_train - pixel_means) / pixel_stds\n",
        "X_valid_scaled = (X_valid - pixel_means) / pixel_stds\n",
        "X_test_scaled = (X_test - pixel_means) / pixel_stds"
      ],
      "execution_count": null,
      "outputs": [
        {
          "output_type": "stream",
          "text": [
            "Downloading data from https://storage.googleapis.com/tensorflow/tf-keras-datasets/train-labels-idx1-ubyte.gz\n",
            "32768/29515 [=================================] - 0s 0us/step\n",
            "Downloading data from https://storage.googleapis.com/tensorflow/tf-keras-datasets/train-images-idx3-ubyte.gz\n",
            "26427392/26421880 [==============================] - 0s 0us/step\n",
            "Downloading data from https://storage.googleapis.com/tensorflow/tf-keras-datasets/t10k-labels-idx1-ubyte.gz\n",
            "8192/5148 [===============================================] - 0s 0us/step\n",
            "Downloading data from https://storage.googleapis.com/tensorflow/tf-keras-datasets/t10k-images-idx3-ubyte.gz\n",
            "4423680/4422102 [==============================] - 0s 0us/step\n"
          ],
          "name": "stdout"
        }
      ]
    },
    {
      "cell_type": "code",
      "metadata": {
        "id": "lJqdRw30mb9U",
        "colab_type": "code",
        "colab": {}
      },
      "source": [
        "optimizer = keras.optimizers.SGD(lr=0.01, decay=1e-4)"
      ],
      "execution_count": null,
      "outputs": []
    },
    {
      "cell_type": "code",
      "metadata": {
        "id": "5cuIDIj2mpcc",
        "colab_type": "code",
        "colab": {}
      },
      "source": [
        "model = keras.models.Sequential([\n",
        "    keras.layers.Flatten(input_shape=[28, 28]),\n",
        "    keras.layers.Dense(300, activation=\"selu\", kernel_initializer=\"lecun_normal\"),\n",
        "    keras.layers.Dense(100, activation=\"selu\", kernel_initializer=\"lecun_normal\"),\n",
        "    keras.layers.Dense(10, activation=\"softmax\")\n",
        "])\n",
        "model.compile(loss=\"sparse_categorical_crossentropy\", optimizer=optimizer, metrics=[\"accuracy\"])"
      ],
      "execution_count": null,
      "outputs": []
    },
    {
      "cell_type": "code",
      "metadata": {
        "id": "8YaSB8t7msf0",
        "colab_type": "code",
        "colab": {
          "base_uri": "https://localhost:8080/",
          "height": 937
        },
        "outputId": "c1cc1525-ecfa-4533-be1c-e090e25e27bc"
      },
      "source": [
        "n_epochs = 25\n",
        "history = model.fit(X_train_scaled, y_train, epochs=n_epochs,\n",
        "                    validation_data=(X_valid_scaled, y_valid))"
      ],
      "execution_count": null,
      "outputs": [
        {
          "output_type": "stream",
          "text": [
            "Epoch 1/25\n",
            "1719/1719 [==============================] - 5s 3ms/step - loss: 0.4854 - accuracy: 0.8301 - val_loss: 0.4064 - val_accuracy: 0.8616\n",
            "Epoch 2/25\n",
            "1719/1719 [==============================] - 4s 3ms/step - loss: 0.3816 - accuracy: 0.8644 - val_loss: 0.3776 - val_accuracy: 0.8714\n",
            "Epoch 3/25\n",
            "1719/1719 [==============================] - 4s 3ms/step - loss: 0.3485 - accuracy: 0.8767 - val_loss: 0.3661 - val_accuracy: 0.8718\n",
            "Epoch 4/25\n",
            "1719/1719 [==============================] - 5s 3ms/step - loss: 0.3278 - accuracy: 0.8830 - val_loss: 0.3572 - val_accuracy: 0.8728\n",
            "Epoch 5/25\n",
            "1719/1719 [==============================] - 4s 3ms/step - loss: 0.3116 - accuracy: 0.8886 - val_loss: 0.3496 - val_accuracy: 0.8758\n",
            "Epoch 6/25\n",
            "1719/1719 [==============================] - 4s 3ms/step - loss: 0.2996 - accuracy: 0.8933 - val_loss: 0.3461 - val_accuracy: 0.8804\n",
            "Epoch 7/25\n",
            "1719/1719 [==============================] - 4s 3ms/step - loss: 0.2895 - accuracy: 0.8967 - val_loss: 0.3351 - val_accuracy: 0.8784\n",
            "Epoch 8/25\n",
            "1719/1719 [==============================] - 4s 3ms/step - loss: 0.2804 - accuracy: 0.9001 - val_loss: 0.3363 - val_accuracy: 0.8790\n",
            "Epoch 9/25\n",
            "1719/1719 [==============================] - 4s 3ms/step - loss: 0.2727 - accuracy: 0.9012 - val_loss: 0.3359 - val_accuracy: 0.8804\n",
            "Epoch 10/25\n",
            "1719/1719 [==============================] - 4s 3ms/step - loss: 0.2654 - accuracy: 0.9044 - val_loss: 0.3305 - val_accuracy: 0.8850\n",
            "Epoch 11/25\n",
            "1719/1719 [==============================] - 5s 3ms/step - loss: 0.2591 - accuracy: 0.9075 - val_loss: 0.3271 - val_accuracy: 0.8824\n",
            "Epoch 12/25\n",
            "1719/1719 [==============================] - 4s 3ms/step - loss: 0.2534 - accuracy: 0.9093 - val_loss: 0.3282 - val_accuracy: 0.8818\n",
            "Epoch 13/25\n",
            "1719/1719 [==============================] - 4s 3ms/step - loss: 0.2485 - accuracy: 0.9115 - val_loss: 0.3287 - val_accuracy: 0.8830\n",
            "Epoch 14/25\n",
            "1719/1719 [==============================] - 4s 3ms/step - loss: 0.2435 - accuracy: 0.9127 - val_loss: 0.3256 - val_accuracy: 0.8840\n",
            "Epoch 15/25\n",
            "1719/1719 [==============================] - 4s 3ms/step - loss: 0.2390 - accuracy: 0.9145 - val_loss: 0.3237 - val_accuracy: 0.8842\n",
            "Epoch 16/25\n",
            "1719/1719 [==============================] - 5s 3ms/step - loss: 0.2352 - accuracy: 0.9160 - val_loss: 0.3232 - val_accuracy: 0.8860\n",
            "Epoch 17/25\n",
            "1719/1719 [==============================] - 5s 3ms/step - loss: 0.2311 - accuracy: 0.9184 - val_loss: 0.3262 - val_accuracy: 0.8874\n",
            "Epoch 18/25\n",
            "1719/1719 [==============================] - 5s 3ms/step - loss: 0.2274 - accuracy: 0.9195 - val_loss: 0.3224 - val_accuracy: 0.8882\n",
            "Epoch 19/25\n",
            "1719/1719 [==============================] - 4s 3ms/step - loss: 0.2241 - accuracy: 0.9203 - val_loss: 0.3242 - val_accuracy: 0.8840\n",
            "Epoch 20/25\n",
            "1719/1719 [==============================] - 4s 3ms/step - loss: 0.2207 - accuracy: 0.9225 - val_loss: 0.3248 - val_accuracy: 0.8864\n",
            "Epoch 21/25\n",
            "1719/1719 [==============================] - 4s 3ms/step - loss: 0.2179 - accuracy: 0.9233 - val_loss: 0.3235 - val_accuracy: 0.8880\n",
            "Epoch 22/25\n",
            "1719/1719 [==============================] - 4s 3ms/step - loss: 0.2153 - accuracy: 0.9240 - val_loss: 0.3201 - val_accuracy: 0.8882\n",
            "Epoch 23/25\n",
            "1719/1719 [==============================] - 4s 3ms/step - loss: 0.2123 - accuracy: 0.9259 - val_loss: 0.3255 - val_accuracy: 0.8880\n",
            "Epoch 24/25\n",
            "1719/1719 [==============================] - 4s 3ms/step - loss: 0.2095 - accuracy: 0.9261 - val_loss: 0.3280 - val_accuracy: 0.8874\n",
            "Epoch 25/25\n",
            "1719/1719 [==============================] - 5s 3ms/step - loss: 0.2073 - accuracy: 0.9275 - val_loss: 0.3231 - val_accuracy: 0.8902\n"
          ],
          "name": "stdout"
        }
      ]
    },
    {
      "cell_type": "code",
      "metadata": {
        "id": "BgIjLu6Vmt3_",
        "colab_type": "code",
        "colab": {
          "base_uri": "https://localhost:8080/",
          "height": 303
        },
        "outputId": "f4f27730-f447-4219-dccc-989483ba1643"
      },
      "source": [
        "learning_rate = 0.01\n",
        "decay = 1e-4\n",
        "batch_size = 32\n",
        "n_steps_per_epoch = len(X_train) // batch_size\n",
        "epochs = np.arange(n_epochs)\n",
        "lrs = learning_rate / (1 + decay * epochs * n_steps_per_epoch)\n",
        "\n",
        "plt.plot(epochs, lrs,  \"o-\")\n",
        "plt.axis([0, n_epochs - 1, 0, 0.01])\n",
        "plt.xlabel(\"Epoch\")\n",
        "plt.ylabel(\"Learning Rate\")\n",
        "plt.title(\"Power Scheduling\", fontsize=14)\n",
        "plt.grid(True)\n",
        "plt.show()"
      ],
      "execution_count": null,
      "outputs": [
        {
          "output_type": "display_data",
          "data": {
            "image/png": "[encoded data removed]",
            "text/plain": [
              "<Figure size 432x288 with 1 Axes>"
            ]
          },
          "metadata": {
            "tags": [],
            "needs_background": "light"
          }
        }
      ]
    },
    {
      "cell_type": "markdown",
      "metadata": {
        "id": "44Yf83b0m8R0",
        "colab_type": "text"
      },
      "source": [
        "##Expoential Scheduling"
      ]
    },
    {
      "cell_type": "markdown",
      "metadata": {
        "id": "3oQkELpFnFdd",
        "colab_type": "text"
      },
      "source": [
        "```lr = lr0 * 0.1**(epoch / s)```"
      ]
    },
    {
      "cell_type": "code",
      "metadata": {
        "id": "cfF20MIxnC9u",
        "colab_type": "code",
        "colab": {}
      },
      "source": [
        "def exponential_decay_fn(epoch):\n",
        "  return 0.01 * 0.1**(epoch / 20)"
      ],
      "execution_count": null,
      "outputs": []
    },
    {
      "cell_type": "code",
      "metadata": {
        "id": "KvbjvaQnnKd9",
        "colab_type": "code",
        "colab": {}
      },
      "source": [
        "def exponential_decay(lr0, s):\n",
        "  def exponential_decay_fn(epoch):\n",
        "    return lr0 * 0.1**(epoch / s)\n",
        "  return exponential_decay_fn\n",
        "\n",
        "exponential_decay_fn = exponential_decay(lr0=0.01, s=20)"
      ],
      "execution_count": null,
      "outputs": []
    },
    {
      "cell_type": "code",
      "metadata": {
        "id": "bLbg22fFnaXY",
        "colab_type": "code",
        "colab": {}
      },
      "source": [
        "model = keras.models.Sequential([\n",
        "    keras.layers.Flatten(input_shape=[28, 28]),\n",
        "    keras.layers.Dense(300, activation=\"selu\", kernel_initializer=\"lecun_normal\"),\n",
        "    keras.layers.Dense(100, activation=\"selu\", kernel_initializer=\"lecun_normal\"),\n",
        "    keras.layers.Dense(10, activation=\"softmax\")\n",
        "])\n",
        "model.compile(loss=\"sparse_categorical_crossentropy\", optimizer=\"nadam\", metrics=[\"accuracy\"])\n",
        "n_epochs = 25"
      ],
      "execution_count": null,
      "outputs": []
    },
    {
      "cell_type": "code",
      "metadata": {
        "id": "LbAgBB5fnhuB",
        "colab_type": "code",
        "colab": {
          "base_uri": "https://localhost:8080/",
          "height": 937
        },
        "outputId": "187d711e-ae6d-4b48-d3ed-17b1eca4d0a3"
      },
      "source": [
        "lr_scheduler = keras.callbacks.LearningRateScheduler(exponential_decay_fn)\n",
        "history = model.fit(X_train_scaled, y_train, epochs=n_epochs,\n",
        "                    validation_data=(X_valid_scaled, y_valid),\n",
        "                    callbacks=[lr_scheduler])"
      ],
      "execution_count": null,
      "outputs": [
        {
          "output_type": "stream",
          "text": [
            "Epoch 1/25\n",
            "1719/1719 [==============================] - 9s 5ms/step - loss: 0.8496 - accuracy: 0.7594 - val_loss: 1.1741 - val_accuracy: 0.6540\n",
            "Epoch 2/25\n",
            "1719/1719 [==============================] - 9s 5ms/step - loss: 0.7336 - accuracy: 0.7901 - val_loss: 0.6966 - val_accuracy: 0.7798\n",
            "Epoch 3/25\n",
            "1719/1719 [==============================] - 9s 5ms/step - loss: 0.6452 - accuracy: 0.8088 - val_loss: 0.7278 - val_accuracy: 0.7882\n",
            "Epoch 4/25\n",
            "1719/1719 [==============================] - 9s 5ms/step - loss: 0.5927 - accuracy: 0.8220 - val_loss: 0.6308 - val_accuracy: 0.7766\n",
            "Epoch 5/25\n",
            "1719/1719 [==============================] - 9s 5ms/step - loss: 0.5225 - accuracy: 0.8429 - val_loss: 0.6264 - val_accuracy: 0.8500\n",
            "Epoch 6/25\n",
            "1719/1719 [==============================] - 9s 5ms/step - loss: 0.4781 - accuracy: 0.8526 - val_loss: 0.6402 - val_accuracy: 0.8116\n",
            "Epoch 7/25\n",
            "1719/1719 [==============================] - 10s 6ms/step - loss: 0.4478 - accuracy: 0.8624 - val_loss: 0.5169 - val_accuracy: 0.8586\n",
            "Epoch 8/25\n",
            "1719/1719 [==============================] - 9s 6ms/step - loss: 0.4281 - accuracy: 0.8675 - val_loss: 0.5709 - val_accuracy: 0.8690\n",
            "Epoch 9/25\n",
            "1719/1719 [==============================] - 9s 5ms/step - loss: 0.3916 - accuracy: 0.8772 - val_loss: 0.5511 - val_accuracy: 0.8506\n",
            "Epoch 10/25\n",
            "1719/1719 [==============================] - 10s 6ms/step - loss: 0.3728 - accuracy: 0.8826 - val_loss: 0.5258 - val_accuracy: 0.8648\n",
            "Epoch 11/25\n",
            "1719/1719 [==============================] - 9s 5ms/step - loss: 0.3538 - accuracy: 0.8886 - val_loss: 0.4852 - val_accuracy: 0.8648\n",
            "Epoch 12/25\n",
            "1719/1719 [==============================] - 9s 5ms/step - loss: 0.3287 - accuracy: 0.8950 - val_loss: 0.5297 - val_accuracy: 0.8716\n",
            "Epoch 13/25\n",
            "1719/1719 [==============================] - 10s 6ms/step - loss: 0.3153 - accuracy: 0.9000 - val_loss: 0.4742 - val_accuracy: 0.8710\n",
            "Epoch 14/25\n",
            "1719/1719 [==============================] - 9s 5ms/step - loss: 0.2926 - accuracy: 0.9062 - val_loss: 0.5174 - val_accuracy: 0.8670\n",
            "Epoch 15/25\n",
            "1719/1719 [==============================] - 9s 5ms/step - loss: 0.2738 - accuracy: 0.9109 - val_loss: 0.4873 - val_accuracy: 0.8708\n",
            "Epoch 16/25\n",
            "1719/1719 [==============================] - 10s 6ms/step - loss: 0.2588 - accuracy: 0.9166 - val_loss: 0.4494 - val_accuracy: 0.8706\n",
            "Epoch 17/25\n",
            "1719/1719 [==============================] - 10s 6ms/step - loss: 0.2410 - accuracy: 0.9200 - val_loss: 0.5346 - val_accuracy: 0.8758\n",
            "Epoch 18/25\n",
            "1719/1719 [==============================] - 9s 5ms/step - loss: 0.2346 - accuracy: 0.9236 - val_loss: 0.5001 - val_accuracy: 0.8762\n",
            "Epoch 19/25\n",
            "1719/1719 [==============================] - 9s 5ms/step - loss: 0.2211 - accuracy: 0.9281 - val_loss: 0.5293 - val_accuracy: 0.8796\n",
            "Epoch 20/25\n",
            "1719/1719 [==============================] - 9s 5ms/step - loss: 0.2089 - accuracy: 0.9323 - val_loss: 0.5266 - val_accuracy: 0.8786\n",
            "Epoch 21/25\n",
            "1719/1719 [==============================] - 9s 5ms/step - loss: 0.2000 - accuracy: 0.9352 - val_loss: 0.5439 - val_accuracy: 0.8778\n",
            "Epoch 22/25\n",
            "1719/1719 [==============================] - 9s 5ms/step - loss: 0.1905 - accuracy: 0.9381 - val_loss: 0.5477 - val_accuracy: 0.8828\n",
            "Epoch 23/25\n",
            "1719/1719 [==============================] - 9s 5ms/step - loss: 0.1851 - accuracy: 0.9399 - val_loss: 0.5868 - val_accuracy: 0.8860\n",
            "Epoch 24/25\n",
            "1719/1719 [==============================] - 10s 6ms/step - loss: 0.1754 - accuracy: 0.9439 - val_loss: 0.5646 - val_accuracy: 0.8822\n",
            "Epoch 25/25\n",
            "1719/1719 [==============================] - 10s 6ms/step - loss: 0.1674 - accuracy: 0.9457 - val_loss: 0.5354 - val_accuracy: 0.8866\n"
          ],
          "name": "stdout"
        }
      ]
    },
    {
      "cell_type": "code",
      "metadata": {
        "id": "iIlF-HPxnrEe",
        "colab_type": "code",
        "colab": {
          "base_uri": "https://localhost:8080/",
          "height": 303
        },
        "outputId": "03162df4-d63a-49ee-bdb1-93c9daefd911"
      },
      "source": [
        "plt.plot(history.epoch, history.history[\"lr\"], \"o-\")\n",
        "plt.axis([0, n_epochs - 1, 0, 0.011])\n",
        "plt.xlabel(\"Epoch\")\n",
        "plt.ylabel(\"Learning Rate\")\n",
        "plt.title(\"Exponential Scheduling\", fontsize=14)\n",
        "plt.grid(True)\n",
        "plt.show()"
      ],
      "execution_count": null,
      "outputs": [
        {
          "output_type": "display_data",
          "data": {
            "image/png": "[encoded data removed]",
            "text/plain": [
              "<Figure size 432x288 with 1 Axes>"
            ]
          },
          "metadata": {
            "tags": [],
            "needs_background": "light"
          }
        }
      ]
    },
    {
      "cell_type": "markdown",
      "metadata": {
        "id": "MjeUFSnjoDqd",
        "colab_type": "text"
      },
      "source": [
        "##Piecewise Constant Scheduling"
      ]
    },
    {
      "cell_type": "code",
      "metadata": {
        "id": "YwG6w_hDoHjF",
        "colab_type": "code",
        "colab": {}
      },
      "source": [
        "def piecewise_constant_fn(epoch):\n",
        "  if epoch < 5:\n",
        "      return 0.01\n",
        "  elif epoch < 15:\n",
        "      return 0.005\n",
        "  else:\n",
        "      return 0.001"
      ],
      "execution_count": null,
      "outputs": []
    },
    {
      "cell_type": "code",
      "metadata": {
        "id": "jowe8JnLoMAq",
        "colab_type": "code",
        "colab": {}
      },
      "source": [
        "def piecewise_constant(boundaries, values):\n",
        "  boundaries = np.array([0] + boundaries)\n",
        "  values = np.array(values)\n",
        "  def piecewise_constant_fn(epoch):\n",
        "    return values[np.argmax(boundaries > epoch) - 1]\n",
        "  return piecewise_constant_fn\n",
        "\n",
        "piecewise_constant_fn = piecewise_constant([5, 15], [0.01, 0.005, 0.001])"
      ],
      "execution_count": null,
      "outputs": []
    },
    {
      "cell_type": "code",
      "metadata": {
        "id": "GcJ3S_XuoS4w",
        "colab_type": "code",
        "colab": {
          "base_uri": "https://localhost:8080/",
          "height": 937
        },
        "outputId": "8d064486-8a5e-449e-d36c-4488303a18a1"
      },
      "source": [
        "lr_scheduler = keras.callbacks.LearningRateScheduler(piecewise_constant_fn)\n",
        "\n",
        "model = keras.models.Sequential([\n",
        "    keras.layers.Flatten(input_shape=[28, 28]),\n",
        "    keras.layers.Dense(300, activation=\"selu\", kernel_initializer=\"lecun_normal\"),\n",
        "    keras.layers.Dense(100, activation=\"selu\", kernel_initializer=\"lecun_normal\"),\n",
        "    keras.layers.Dense(10, activation=\"softmax\")\n",
        "])\n",
        "model.compile(loss=\"sparse_categorical_crossentropy\", optimizer=\"nadam\", metrics=[\"accuracy\"])\n",
        "n_epochs = 25\n",
        "history = model.fit(X_train_scaled, y_train, epochs=n_epochs,\n",
        "                    validation_data=(X_valid_scaled, y_valid),\n",
        "                    callbacks=[lr_scheduler])"
      ],
      "execution_count": null,
      "outputs": [
        {
          "output_type": "stream",
          "text": [
            "Epoch 1/25\n",
            "1719/1719 [==============================] - 9s 5ms/step - loss: 0.8515 - accuracy: 0.7588 - val_loss: 0.7050 - val_accuracy: 0.7876\n",
            "Epoch 2/25\n",
            "1719/1719 [==============================] - 9s 5ms/step - loss: 0.8333 - accuracy: 0.7613 - val_loss: 0.6880 - val_accuracy: 0.7958\n",
            "Epoch 3/25\n",
            "1719/1719 [==============================] - 9s 5ms/step - loss: 0.8430 - accuracy: 0.7522 - val_loss: 0.8712 - val_accuracy: 0.7662\n",
            "Epoch 4/25\n",
            "1719/1719 [==============================] - 9s 5ms/step - loss: 1.1102 - accuracy: 0.6549 - val_loss: 1.1694 - val_accuracy: 0.6390\n",
            "Epoch 5/25\n",
            "1719/1719 [==============================] - 9s 5ms/step - loss: 0.9970 - accuracy: 0.6747 - val_loss: 1.2226 - val_accuracy: 0.6116\n",
            "Epoch 6/25\n",
            "1719/1719 [==============================] - 9s 5ms/step - loss: 0.7458 - accuracy: 0.7302 - val_loss: 0.7805 - val_accuracy: 0.7540\n",
            "Epoch 7/25\n",
            "1719/1719 [==============================] - 9s 5ms/step - loss: 0.6873 - accuracy: 0.7429 - val_loss: 0.7242 - val_accuracy: 0.7404\n",
            "Epoch 8/25\n",
            "1719/1719 [==============================] - 9s 5ms/step - loss: 0.6917 - accuracy: 0.7498 - val_loss: 0.7396 - val_accuracy: 0.7424\n",
            "Epoch 9/25\n",
            "1719/1719 [==============================] - 9s 5ms/step - loss: 0.6560 - accuracy: 0.7601 - val_loss: 0.6514 - val_accuracy: 0.7606\n",
            "Epoch 10/25\n",
            "1719/1719 [==============================] - 9s 5ms/step - loss: 0.6356 - accuracy: 0.7651 - val_loss: 0.7033 - val_accuracy: 0.7692\n",
            "Epoch 11/25\n",
            "1719/1719 [==============================] - 9s 5ms/step - loss: 0.6176 - accuracy: 0.7669 - val_loss: 0.7879 - val_accuracy: 0.7766\n",
            "Epoch 12/25\n",
            "1719/1719 [==============================] - 9s 5ms/step - loss: 0.6458 - accuracy: 0.7676 - val_loss: 0.7299 - val_accuracy: 0.7642\n",
            "Epoch 13/25\n",
            "1719/1719 [==============================] - 9s 5ms/step - loss: 0.6098 - accuracy: 0.7733 - val_loss: 0.6658 - val_accuracy: 0.7628\n",
            "Epoch 14/25\n",
            "1719/1719 [==============================] - 9s 5ms/step - loss: 0.6114 - accuracy: 0.7730 - val_loss: 0.7324 - val_accuracy: 0.7700\n",
            "Epoch 15/25\n",
            "1719/1719 [==============================] - 9s 5ms/step - loss: 0.6021 - accuracy: 0.7780 - val_loss: 0.7399 - val_accuracy: 0.7682\n",
            "Epoch 16/25\n",
            "1719/1719 [==============================] - 9s 5ms/step - loss: 0.4765 - accuracy: 0.8030 - val_loss: 0.6379 - val_accuracy: 0.7892\n",
            "Epoch 17/25\n",
            "1719/1719 [==============================] - 9s 5ms/step - loss: 0.4521 - accuracy: 0.8189 - val_loss: 0.6275 - val_accuracy: 0.8048\n",
            "Epoch 18/25\n",
            "1719/1719 [==============================] - 9s 5ms/step - loss: 0.4163 - accuracy: 0.8550 - val_loss: 0.5871 - val_accuracy: 0.8514\n",
            "Epoch 19/25\n",
            "1719/1719 [==============================] - 9s 5ms/step - loss: 0.3623 - accuracy: 0.8844 - val_loss: 0.5848 - val_accuracy: 0.8646\n",
            "Epoch 20/25\n",
            "1719/1719 [==============================] - 9s 5ms/step - loss: 0.3381 - accuracy: 0.8927 - val_loss: 0.5945 - val_accuracy: 0.8652\n",
            "Epoch 21/25\n",
            "1719/1719 [==============================] - 9s 5ms/step - loss: 0.3235 - accuracy: 0.8970 - val_loss: 0.6033 - val_accuracy: 0.8694\n",
            "Epoch 22/25\n",
            "1719/1719 [==============================] - 9s 5ms/step - loss: 0.3101 - accuracy: 0.9013 - val_loss: 0.5963 - val_accuracy: 0.8686\n",
            "Epoch 23/25\n",
            "1719/1719 [==============================] - 9s 5ms/step - loss: 0.2986 - accuracy: 0.9038 - val_loss: 0.6118 - val_accuracy: 0.8666\n",
            "Epoch 24/25\n",
            "1719/1719 [==============================] - 9s 5ms/step - loss: 0.2915 - accuracy: 0.9075 - val_loss: 0.5471 - val_accuracy: 0.8748\n",
            "Epoch 25/25\n",
            "1719/1719 [==============================] - 9s 5ms/step - loss: 0.2823 - accuracy: 0.9099 - val_loss: 0.5919 - val_accuracy: 0.8726\n"
          ],
          "name": "stdout"
        }
      ]
    },
    {
      "cell_type": "code",
      "metadata": {
        "id": "beBZpqlPoXbu",
        "colab_type": "code",
        "colab": {
          "base_uri": "https://localhost:8080/",
          "height": 303
        },
        "outputId": "47c50cd0-3426-45b3-cb5a-8f89e9d296a1"
      },
      "source": [
        "plt.plot(history.epoch, [piecewise_constant_fn(epoch) for epoch in history.epoch], \"o-\")\n",
        "plt.axis([0, n_epochs - 1, 0, 0.011])\n",
        "plt.xlabel(\"Epoch\")\n",
        "plt.ylabel(\"Learning Rate\")\n",
        "plt.title(\"Piecewise Constant Scheduling\", fontsize=14)\n",
        "plt.grid(True)\n",
        "plt.show()"
      ],
      "execution_count": null,
      "outputs": [
        {
          "output_type": "display_data",
          "data": {
            "image/png": "[encoded data removed]",
            "text/plain": [
              "<Figure size 432x288 with 1 Axes>"
            ]
          },
          "metadata": {
            "tags": [],
            "needs_background": "light"
          }
        }
      ]
    },
    {
      "cell_type": "markdown",
      "metadata": {
        "id": "V29jJo1no9UL",
        "colab_type": "text"
      },
      "source": [
        "##1Cycle scheduling"
      ]
    },
    {
      "cell_type": "code",
      "metadata": {
        "id": "euV_9tCepCmA",
        "colab_type": "code",
        "colab": {}
      },
      "source": [
        "K = keras.backend\n",
        "\n",
        "class ExponentialLearningRate(keras.callbacks.Callback):\n",
        "    def __init__(self, factor):\n",
        "        self.factor = factor\n",
        "        self.rates = []\n",
        "        self.losses = []\n",
        "    def on_batch_end(self, batch, logs):\n",
        "        self.rates.append(K.get_value(self.model.optimizer.lr))\n",
        "        self.losses.append(logs[\"loss\"])\n",
        "        K.set_value(self.model.optimizer.lr, self.model.optimizer.lr * self.factor)\n",
        "\n",
        "def find_learning_rate(model, X, y, epochs=1, batch_size=32, min_rate=10**-5, max_rate=10):\n",
        "    init_weights = model.get_weights()\n",
        "    iterations = len(X) // batch_size * epochs\n",
        "    factor = np.exp(np.log(max_rate / min_rate) / iterations)\n",
        "    init_lr = K.get_value(model.optimizer.lr)\n",
        "    K.set_value(model.optimizer.lr, min_rate)\n",
        "    exp_lr = ExponentialLearningRate(factor)\n",
        "    history = model.fit(X, y, epochs=epochs, batch_size=batch_size,\n",
        "                        callbacks=[exp_lr])\n",
        "    K.set_value(model.optimizer.lr, init_lr)\n",
        "    model.set_weights(init_weights)\n",
        "    return exp_lr.rates, exp_lr.losses\n",
        "\n",
        "def plot_lr_vs_loss(rates, losses):\n",
        "    plt.plot(rates, losses)\n",
        "    plt.gca().set_xscale('log')\n",
        "    plt.hlines(min(losses), min(rates), max(rates))\n",
        "    plt.axis([min(rates), max(rates), min(losses), (losses[0] + min(losses)) / 2])\n",
        "    plt.xlabel(\"Learning rate\")\n",
        "    plt.ylabel(\"Loss\")"
      ],
      "execution_count": null,
      "outputs": []
    },
    {
      "cell_type": "code",
      "metadata": {
        "id": "J6bv7Y_ZpFvm",
        "colab_type": "code",
        "colab": {}
      },
      "source": [
        "tf.random.set_seed(42)\n",
        "np.random.seed(42)\n",
        "\n",
        "model = keras.models.Sequential([\n",
        "    keras.layers.Flatten(input_shape=[28, 28]),\n",
        "    keras.layers.Dense(300, activation=\"selu\", kernel_initializer=\"lecun_normal\"),\n",
        "    keras.layers.Dense(100, activation=\"selu\", kernel_initializer=\"lecun_normal\"),\n",
        "    keras.layers.Dense(10, activation=\"softmax\")\n",
        "])\n",
        "model.compile(loss=\"sparse_categorical_crossentropy\",\n",
        "              optimizer=keras.optimizers.SGD(lr=1e-3),\n",
        "              metrics=[\"accuracy\"])"
      ],
      "execution_count": null,
      "outputs": []
    },
    {
      "cell_type": "code",
      "metadata": {
        "id": "w6SCOkzYpHMq",
        "colab_type": "code",
        "colab": {
          "base_uri": "https://localhost:8080/",
          "height": 308
        },
        "outputId": "2f004739-835d-43a0-ceab-591ef32895d5"
      },
      "source": [
        "batch_size = 128\n",
        "rates, losses = find_learning_rate(model, X_train_scaled, y_train, epochs=1, batch_size=batch_size)\n",
        "plot_lr_vs_loss(rates, losses)"
      ],
      "execution_count": null,
      "outputs": [
        {
          "output_type": "stream",
          "text": [
            "430/430 [==============================] - 3s 6ms/step - loss: nan - accuracy: 0.3862\n"
          ],
          "name": "stdout"
        },
        {
          "output_type": "display_data",
          "data": {
            "image/png": "[encoded data removed]",
            "text/plain": [
              "<Figure size 432x288 with 1 Axes>"
            ]
          },
          "metadata": {
            "tags": [],
            "needs_background": "light"
          }
        }
      ]
    },
    {
      "cell_type": "code",
      "metadata": {
        "id": "r0TQoxUipJWn",
        "colab_type": "code",
        "colab": {}
      },
      "source": [
        "class OneCycleScheduler(keras.callbacks.Callback):\n",
        "    def __init__(self, iterations, max_rate, start_rate=None,\n",
        "                 last_iterations=None, last_rate=None):\n",
        "        self.iterations = iterations\n",
        "        self.max_rate = max_rate\n",
        "        self.start_rate = start_rate or max_rate / 10\n",
        "        self.last_iterations = last_iterations or iterations // 10 + 1\n",
        "        self.half_iteration = (iterations - self.last_iterations) // 2\n",
        "        self.last_rate = last_rate or self.start_rate / 1000\n",
        "        self.iteration = 0\n",
        "    def _interpolate(self, iter1, iter2, rate1, rate2):\n",
        "        return ((rate2 - rate1) * (self.iteration - iter1)\n",
        "                / (iter2 - iter1) + rate1)\n",
        "    def on_batch_begin(self, batch, logs):\n",
        "        if self.iteration < self.half_iteration:\n",
        "            rate = self._interpolate(0, self.half_iteration, self.start_rate, self.max_rate)\n",
        "        elif self.iteration < 2 * self.half_iteration:\n",
        "            rate = self._interpolate(self.half_iteration, 2 * self.half_iteration,\n",
        "                                     self.max_rate, self.start_rate)\n",
        "        else:\n",
        "            rate = self._interpolate(2 * self.half_iteration, self.iterations,\n",
        "                                     self.start_rate, self.last_rate)\n",
        "            rate = max(rate, self.last_rate)\n",
        "        self.iteration += 1\n",
        "        K.set_value(self.model.optimizer.lr, rate)"
      ],
      "execution_count": null,
      "outputs": []
    },
    {
      "cell_type": "code",
      "metadata": {
        "id": "dOFkZqtQpMSJ",
        "colab_type": "code",
        "colab": {
          "base_uri": "https://localhost:8080/",
          "height": 937
        },
        "outputId": "df9fdc79-c1f3-4006-bbd1-09566e7e491f"
      },
      "source": [
        "n_epochs = 25\n",
        "onecycle = OneCycleScheduler(len(X_train) // batch_size * n_epochs, max_rate=0.05)\n",
        "history = model.fit(X_train_scaled, y_train, epochs=n_epochs, batch_size=batch_size,\n",
        "                    validation_data=(X_valid_scaled, y_valid),\n",
        "                    callbacks=[onecycle])"
      ],
      "execution_count": null,
      "outputs": [
        {
          "output_type": "stream",
          "text": [
            "Epoch 1/25\n",
            "430/430 [==============================] - 3s 6ms/step - loss: 0.6572 - accuracy: 0.7740 - val_loss: 0.4872 - val_accuracy: 0.8338\n",
            "Epoch 2/25\n",
            "430/430 [==============================] - 3s 6ms/step - loss: 0.4581 - accuracy: 0.8396 - val_loss: 0.4273 - val_accuracy: 0.8522\n",
            "Epoch 3/25\n",
            "430/430 [==============================] - 3s 6ms/step - loss: 0.4121 - accuracy: 0.8546 - val_loss: 0.4115 - val_accuracy: 0.8586\n",
            "Epoch 4/25\n",
            "430/430 [==============================] - 3s 6ms/step - loss: 0.3837 - accuracy: 0.8641 - val_loss: 0.3868 - val_accuracy: 0.8686\n",
            "Epoch 5/25\n",
            "430/430 [==============================] - 3s 6ms/step - loss: 0.3639 - accuracy: 0.8716 - val_loss: 0.3765 - val_accuracy: 0.8682\n",
            "Epoch 6/25\n",
            "430/430 [==============================] - 3s 6ms/step - loss: 0.3457 - accuracy: 0.8773 - val_loss: 0.3744 - val_accuracy: 0.8706\n",
            "Epoch 7/25\n",
            "430/430 [==============================] - 3s 6ms/step - loss: 0.3330 - accuracy: 0.8809 - val_loss: 0.3636 - val_accuracy: 0.8718\n",
            "Epoch 8/25\n",
            "430/430 [==============================] - 3s 6ms/step - loss: 0.3185 - accuracy: 0.8861 - val_loss: 0.3956 - val_accuracy: 0.8600\n",
            "Epoch 9/25\n",
            "430/430 [==============================] - 3s 6ms/step - loss: 0.3065 - accuracy: 0.8892 - val_loss: 0.3489 - val_accuracy: 0.8754\n",
            "Epoch 10/25\n",
            "430/430 [==============================] - 3s 6ms/step - loss: 0.2944 - accuracy: 0.8926 - val_loss: 0.3398 - val_accuracy: 0.8810\n",
            "Epoch 11/25\n",
            "430/430 [==============================] - 3s 6ms/step - loss: 0.2839 - accuracy: 0.8961 - val_loss: 0.3464 - val_accuracy: 0.8802\n",
            "Epoch 12/25\n",
            "430/430 [==============================] - 3s 6ms/step - loss: 0.2708 - accuracy: 0.9025 - val_loss: 0.3642 - val_accuracy: 0.8686\n",
            "Epoch 13/25\n",
            "430/430 [==============================] - 3s 6ms/step - loss: 0.2536 - accuracy: 0.9085 - val_loss: 0.3345 - val_accuracy: 0.8834\n",
            "Epoch 14/25\n",
            "430/430 [==============================] - 3s 6ms/step - loss: 0.2403 - accuracy: 0.9139 - val_loss: 0.3457 - val_accuracy: 0.8806\n",
            "Epoch 15/25\n",
            "430/430 [==============================] - 3s 6ms/step - loss: 0.2279 - accuracy: 0.9183 - val_loss: 0.3249 - val_accuracy: 0.8846\n",
            "Epoch 16/25\n",
            "430/430 [==============================] - 3s 6ms/step - loss: 0.2158 - accuracy: 0.9235 - val_loss: 0.3293 - val_accuracy: 0.8828\n",
            "Epoch 17/25\n",
            "430/430 [==============================] - 3s 6ms/step - loss: 0.2061 - accuracy: 0.9263 - val_loss: 0.3342 - val_accuracy: 0.8866\n",
            "Epoch 18/25\n",
            "430/430 [==============================] - 3s 6ms/step - loss: 0.1977 - accuracy: 0.9304 - val_loss: 0.3235 - val_accuracy: 0.8904\n",
            "Epoch 19/25\n",
            "430/430 [==============================] - 3s 6ms/step - loss: 0.1891 - accuracy: 0.9340 - val_loss: 0.3233 - val_accuracy: 0.8904\n",
            "Epoch 20/25\n",
            "430/430 [==============================] - 3s 6ms/step - loss: 0.1820 - accuracy: 0.9367 - val_loss: 0.3223 - val_accuracy: 0.8920\n",
            "Epoch 21/25\n",
            "430/430 [==============================] - 3s 6ms/step - loss: 0.1752 - accuracy: 0.9401 - val_loss: 0.3216 - val_accuracy: 0.8908\n",
            "Epoch 22/25\n",
            "430/430 [==============================] - 3s 6ms/step - loss: 0.1699 - accuracy: 0.9422 - val_loss: 0.3180 - val_accuracy: 0.8954\n",
            "Epoch 23/25\n",
            "430/430 [==============================] - 3s 6ms/step - loss: 0.1654 - accuracy: 0.9443 - val_loss: 0.3184 - val_accuracy: 0.8946\n",
            "Epoch 24/25\n",
            "430/430 [==============================] - 3s 6ms/step - loss: 0.1627 - accuracy: 0.9458 - val_loss: 0.3173 - val_accuracy: 0.8940\n",
            "Epoch 25/25\n",
            "430/430 [==============================] - 3s 6ms/step - loss: 0.1610 - accuracy: 0.9463 - val_loss: 0.3167 - val_accuracy: 0.8932\n"
          ],
          "name": "stdout"
        }
      ]
    },
    {
      "cell_type": "code",
      "metadata": {
        "id": "-IrhP2DMqA0v",
        "colab_type": "code",
        "colab": {}
      },
      "source": [
        ""
      ],
      "execution_count": null,
      "outputs": []
    }
  ]
}